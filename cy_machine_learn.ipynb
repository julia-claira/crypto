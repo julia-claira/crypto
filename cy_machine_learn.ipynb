{
 "cells": [
  {
   "cell_type": "code",
   "execution_count": null,
   "metadata": {},
   "outputs": [],
   "source": [
    "1) track daily crypto mentions by specific influencers\n",
    "2) track historical and current crypto trends\n",
    "3) see if there is a corralation between price spikes and twiitter mentions, and if so how many days it is offset"
   ]
  },
  {
   "cell_type": "code",
   "execution_count": 340,
   "metadata": {},
   "outputs": [],
   "source": [
    "# Dependencies and Setup\n",
    "import matplotlib.pyplot as plt\n",
    "import pandas as pd\n",
    "import numpy as np\n",
    "import requests\n",
    "import time\n",
    "from scipy.stats import linregress\n",
    "from datetime import datetime"
   ]
  },
  {
   "cell_type": "code",
   "execution_count": 5,
   "metadata": {},
   "outputs": [],
   "source": [
    "from config import consumer_key, consumer_secret\n"
   ]
  },
  {
   "cell_type": "code",
   "execution_count": 7,
   "metadata": {},
   "outputs": [],
   "source": [
    "base_url=\"https://api.polygon.io/v2/aggs/ticker/AAPL/range/1/day/2020-06-01/2020-06-17?apiKey=ui4pRrbHr7mNiqyn6tBCURIIGdQjjWEl\"\n",
    "base_url=\"https://api.polygon.io/v3/reference/tickers?apiKey=ui4pRrbHr7mNiqyn6tBCURIIGdQjjWEl\"\n",
    "\n",
    "base_url=\"https://api.polygon.io/v2/aggs/ticker/DASH/prev?adjusted=true&apiKey=ui4pRrbHr7mNiqyn6tBCURIIGdQjjWEl\"\n",
    "\n",
    "base_url=\"http://rest.coinapi.io/v1/exchangerate/ALICE?apikey=54244F72-7D5F-4173-ADBC-B15B53191244\"\n",
    "\n",
    "base_url=\"http://rest.coinapi.io/v1/assets?apikey=54244F72-7D5F-4173-ADBC-B15B53191244\"\n",
    "\n",
    "base_url=\"https://api.polygon.io/v3/reference/tickers?apiKey=ui4pRrbHr7mNiqyn6tBCURIIGdQjjWEl\"\n",
    "\n",
    "base_url='https://api.polygon.io/v1/historic/forex/BTC/USD/2021-10-14?limit=100&apiKey=ui4pRrbHr7mNiqyn6tBCURIIGdQjjWEl'\n",
    "    \n",
    "\n",
    "\n"
   ]
  },
  {
   "cell_type": "code",
   "execution_count": 8,
   "metadata": {},
   "outputs": [
    {
     "ename": "NameError",
     "evalue": "name 'requests' is not defined",
     "output_type": "error",
     "traceback": [
      "\u001b[0;31m---------------------------------------------------------------------------\u001b[0m",
      "\u001b[0;31mNameError\u001b[0m                                 Traceback (most recent call last)",
      "\u001b[0;32m<ipython-input-8-99709837bbf1>\u001b[0m in \u001b[0;36m<module>\u001b[0;34m\u001b[0m\n\u001b[0;32m----> 1\u001b[0;31m \u001b[0mc\u001b[0m\u001b[0;34m=\u001b[0m\u001b[0mrequests\u001b[0m\u001b[0;34m.\u001b[0m\u001b[0mget\u001b[0m\u001b[0;34m(\u001b[0m\u001b[0mbase_url\u001b[0m\u001b[0;34m)\u001b[0m\u001b[0;34m.\u001b[0m\u001b[0mjson\u001b[0m\u001b[0;34m(\u001b[0m\u001b[0;34m)\u001b[0m\u001b[0;34m\u001b[0m\u001b[0;34m\u001b[0m\u001b[0m\n\u001b[0m",
      "\u001b[0;31mNameError\u001b[0m: name 'requests' is not defined"
     ]
    }
   ],
   "source": [
    "c=requests.get(base_url).json()"
   ]
  },
  {
   "cell_type": "code",
   "execution_count": 209,
   "metadata": {},
   "outputs": [
    {
     "data": {
      "text/plain": [
       "{'status': 'NOT_AUTHORIZED',\n",
       " 'request_id': '70d7a091d255c9cd8e899121a9e848ed',\n",
       " 'message': 'You are not entitled to this data. Please upgrade your plan at https://polygon.io/pricing'}"
      ]
     },
     "execution_count": 209,
     "metadata": {},
     "output_type": "execute_result"
    }
   ],
   "source": [
    "#df = pd.DataFrame(c)\n",
    "  \n",
    "# Print the output.\n",
    "#df.loc[df.asset_id=='KMD']\n",
    "c"
   ]
  },
  {
   "cell_type": "code",
   "execution_count": 95,
   "metadata": {},
   "outputs": [],
   "source": [
    "df = pd.DataFrame(b['rates'])"
   ]
  },
  {
   "cell_type": "code",
   "execution_count": 108,
   "metadata": {},
   "outputs": [
    {
     "data": {
      "text/html": [
       "<div>\n",
       "<style scoped>\n",
       "    .dataframe tbody tr th:only-of-type {\n",
       "        vertical-align: middle;\n",
       "    }\n",
       "\n",
       "    .dataframe tbody tr th {\n",
       "        vertical-align: top;\n",
       "    }\n",
       "\n",
       "    .dataframe thead th {\n",
       "        text-align: right;\n",
       "    }\n",
       "</style>\n",
       "<table border=\"1\" class=\"dataframe\">\n",
       "  <thead>\n",
       "    <tr style=\"text-align: right;\">\n",
       "      <th></th>\n",
       "      <th>time</th>\n",
       "      <th>asset_id_quote</th>\n",
       "      <th>rate</th>\n",
       "    </tr>\n",
       "  </thead>\n",
       "  <tbody>\n",
       "    <tr>\n",
       "      <th>0</th>\n",
       "      <td>2021-11-27T19:31:40.4000000Z</td>\n",
       "      <td>$PAC</td>\n",
       "      <td>2.928526e+03</td>\n",
       "    </tr>\n",
       "    <tr>\n",
       "      <th>1</th>\n",
       "      <td>2021-11-27T19:31:40.4000000Z</td>\n",
       "      <td>0X</td>\n",
       "      <td>1.618980e+01</td>\n",
       "    </tr>\n",
       "    <tr>\n",
       "      <th>2</th>\n",
       "      <td>2021-11-27T19:31:40.4000000Z</td>\n",
       "      <td>0XBTC</td>\n",
       "      <td>6.669732e+00</td>\n",
       "    </tr>\n",
       "    <tr>\n",
       "      <th>3</th>\n",
       "      <td>2021-11-27T19:31:40.4000000Z</td>\n",
       "      <td>100X</td>\n",
       "      <td>4.312145e+09</td>\n",
       "    </tr>\n",
       "    <tr>\n",
       "      <th>4</th>\n",
       "      <td>2021-11-27T19:31:40.4000000Z</td>\n",
       "      <td>10SET</td>\n",
       "      <td>1.954161e+01</td>\n",
       "    </tr>\n",
       "    <tr>\n",
       "      <th>...</th>\n",
       "      <td>...</td>\n",
       "      <td>...</td>\n",
       "      <td>...</td>\n",
       "    </tr>\n",
       "    <tr>\n",
       "      <th>4320</th>\n",
       "      <td>2021-11-27T19:31:40.4000000Z</td>\n",
       "      <td>ZTO</td>\n",
       "      <td>6.363764e-01</td>\n",
       "    </tr>\n",
       "    <tr>\n",
       "      <th>4321</th>\n",
       "      <td>2021-11-27T19:31:40.4000000Z</td>\n",
       "      <td>ZUSD</td>\n",
       "      <td>2.029943e+01</td>\n",
       "    </tr>\n",
       "    <tr>\n",
       "      <th>4322</th>\n",
       "      <td>2021-11-27T19:31:40.4000000Z</td>\n",
       "      <td>ZWAP</td>\n",
       "      <td>6.644804e-01</td>\n",
       "    </tr>\n",
       "    <tr>\n",
       "      <th>4323</th>\n",
       "      <td>2021-11-27T19:31:40.4000000Z</td>\n",
       "      <td>ZYN</td>\n",
       "      <td>8.922169e+01</td>\n",
       "    </tr>\n",
       "    <tr>\n",
       "      <th>4324</th>\n",
       "      <td>2021-11-27T19:31:40.4000000Z</td>\n",
       "      <td>ZYRO</td>\n",
       "      <td>1.595722e+03</td>\n",
       "    </tr>\n",
       "  </tbody>\n",
       "</table>\n",
       "<p>4325 rows × 3 columns</p>\n",
       "</div>"
      ],
      "text/plain": [
       "                              time asset_id_quote          rate\n",
       "0     2021-11-27T19:31:40.4000000Z           $PAC  2.928526e+03\n",
       "1     2021-11-27T19:31:40.4000000Z             0X  1.618980e+01\n",
       "2     2021-11-27T19:31:40.4000000Z          0XBTC  6.669732e+00\n",
       "3     2021-11-27T19:31:40.4000000Z           100X  4.312145e+09\n",
       "4     2021-11-27T19:31:40.4000000Z          10SET  1.954161e+01\n",
       "...                            ...            ...           ...\n",
       "4320  2021-11-27T19:31:40.4000000Z            ZTO  6.363764e-01\n",
       "4321  2021-11-27T19:31:40.4000000Z           ZUSD  2.029943e+01\n",
       "4322  2021-11-27T19:31:40.4000000Z           ZWAP  6.644804e-01\n",
       "4323  2021-11-27T19:31:40.4000000Z            ZYN  8.922169e+01\n",
       "4324  2021-11-27T19:31:40.4000000Z           ZYRO  1.595722e+03\n",
       "\n",
       "[4325 rows x 3 columns]"
      ]
     },
     "execution_count": 108,
     "metadata": {},
     "output_type": "execute_result"
    }
   ],
   "source": [
    "df"
   ]
  },
  {
   "cell_type": "code",
   "execution_count": 112,
   "metadata": {},
   "outputs": [
    {
     "data": {
      "text/html": [
       "<div>\n",
       "<style scoped>\n",
       "    .dataframe tbody tr th:only-of-type {\n",
       "        vertical-align: middle;\n",
       "    }\n",
       "\n",
       "    .dataframe tbody tr th {\n",
       "        vertical-align: top;\n",
       "    }\n",
       "\n",
       "    .dataframe thead th {\n",
       "        text-align: right;\n",
       "    }\n",
       "</style>\n",
       "<table border=\"1\" class=\"dataframe\">\n",
       "  <thead>\n",
       "    <tr style=\"text-align: right;\">\n",
       "      <th></th>\n",
       "      <th>time</th>\n",
       "      <th>asset_id_quote</th>\n",
       "      <th>rate</th>\n",
       "    </tr>\n",
       "  </thead>\n",
       "  <tbody>\n",
       "    <tr>\n",
       "      <th>2063</th>\n",
       "      <td>2021-11-27T19:31:40.4000000Z</td>\n",
       "      <td>KMD</td>\n",
       "      <td>18.927185</td>\n",
       "    </tr>\n",
       "  </tbody>\n",
       "</table>\n",
       "</div>"
      ],
      "text/plain": [
       "                              time asset_id_quote       rate\n",
       "2063  2021-11-27T19:31:40.4000000Z            KMD  18.927185"
      ]
     },
     "execution_count": 112,
     "metadata": {},
     "output_type": "execute_result"
    }
   ],
   "source": [
    "df.loc[df.asset_id_quote=='KMD']"
   ]
  },
  {
   "cell_type": "code",
   "execution_count": 10,
   "metadata": {},
   "outputs": [],
   "source": [
    "from bs4 import BeautifulSoup\n",
    "import tweepy"
   ]
  },
  {
   "cell_type": "code",
   "execution_count": 4,
   "metadata": {},
   "outputs": [],
   "source": [
    "influencers=['Anthony Pompliano', 'Erik Voorhees',\n",
    "'Ty Smith', 'Tone Vays',\n",
    "'CryptoCobain',\n",
    "'Tyler Winklevoss',\n",
    "'Vitalik Buterin',\n",
    "'CryptoWendyO',\n",
    "'StackingUSD',\n",
    "'Girl Gone Crypto',\n",
    "'Euclid and Oaks',\n",
    "'David Gokhshtein',\n",
    "'Hailey Lennon',\n",
    "'Justin Sun',\n",
    "'Ivan on Tech',\n",
    "'Kenn Bosak',\n",
    "'CryptoBrekkie',\n",
    "'Scott Melker',\n",
    "'TheCryptoDog',\n",
    "'BitBoy Crypto',\n",
    "'Dan Held',\n",
    "'PeterMcCormack',\n",
    "'LayahHeilpern',\n",
    "'Coinbound']"
   ]
  },
  {
   "cell_type": "code",
   "execution_count": 5,
   "metadata": {},
   "outputs": [],
   "source": []
  },
  {
   "cell_type": "code",
   "execution_count": 9,
   "metadata": {},
   "outputs": [
    {
     "ename": "NameError",
     "evalue": "name 'tweepy' is not defined",
     "output_type": "error",
     "traceback": [
      "\u001b[0;31m---------------------------------------------------------------------------\u001b[0m",
      "\u001b[0;31mNameError\u001b[0m                                 Traceback (most recent call last)",
      "\u001b[0;32m<ipython-input-9-ed122630952d>\u001b[0m in \u001b[0;36m<module>\u001b[0;34m\u001b[0m\n\u001b[1;32m      1\u001b[0m \u001b[0;31m# Authorize our Twitter credentials\u001b[0m\u001b[0;34m\u001b[0m\u001b[0;34m\u001b[0m\u001b[0;34m\u001b[0m\u001b[0m\n\u001b[0;32m----> 2\u001b[0;31m \u001b[0mauth\u001b[0m \u001b[0;34m=\u001b[0m \u001b[0mtweepy\u001b[0m\u001b[0;34m.\u001b[0m\u001b[0mOAuthHandler\u001b[0m\u001b[0;34m(\u001b[0m\u001b[0mconsumer_key\u001b[0m\u001b[0;34m,\u001b[0m \u001b[0mconsumer_secret\u001b[0m\u001b[0;34m)\u001b[0m\u001b[0;34m\u001b[0m\u001b[0;34m\u001b[0m\u001b[0m\n\u001b[0m\u001b[1;32m      3\u001b[0m \u001b[0mauth\u001b[0m\u001b[0;34m.\u001b[0m\u001b[0mset_access_token\u001b[0m\u001b[0;34m(\u001b[0m\u001b[0maccess_token\u001b[0m\u001b[0;34m,\u001b[0m \u001b[0maccess_token_secret\u001b[0m\u001b[0;34m)\u001b[0m\u001b[0;34m\u001b[0m\u001b[0;34m\u001b[0m\u001b[0m\n\u001b[1;32m      4\u001b[0m \u001b[0mapi\u001b[0m \u001b[0;34m=\u001b[0m \u001b[0mtweepy\u001b[0m\u001b[0;34m.\u001b[0m\u001b[0mAPI\u001b[0m\u001b[0;34m(\u001b[0m\u001b[0mauth\u001b[0m\u001b[0;34m)\u001b[0m\u001b[0;34m\u001b[0m\u001b[0;34m\u001b[0m\u001b[0m\n",
      "\u001b[0;31mNameError\u001b[0m: name 'tweepy' is not defined"
     ]
    }
   ],
   "source": [
    "# Authorize our Twitter credentials\n",
    "auth = tweepy.OAuthHandler(consumer_key, consumer_secret)\n",
    "auth.set_access_token(access_token, access_token_secret)\n",
    "api = tweepy.API(auth)"
   ]
  },
  {
   "cell_type": "code",
   "execution_count": 13,
   "metadata": {},
   "outputs": [],
   "source": [
    "auth = tweepy.OAuthHandler(consumer_key, consumer_secret)\n",
    "api = tweepy.API(auth)"
   ]
  },
  {
   "cell_type": "code",
   "execution_count": 7,
   "metadata": {},
   "outputs": [
    {
     "name": "stdout",
     "output_type": "stream",
     "text": [
      "success\n"
     ]
    }
   ],
   "source": [
    "try:\n",
    "    redirect_url = auth.get_authorization_url()\n",
    "    print('success')\n",
    "except tweepy.TweepError:\n",
    "    print('Error! Failed to get request token.')"
   ]
  },
  {
   "cell_type": "code",
   "execution_count": 10,
   "metadata": {},
   "outputs": [
    {
     "ename": "NameError",
     "evalue": "name 'tweepy' is not defined",
     "output_type": "error",
     "traceback": [
      "\u001b[0;31m---------------------------------------------------------------------------\u001b[0m",
      "\u001b[0;31mNameError\u001b[0m                                 Traceback (most recent call last)",
      "\u001b[0;32m<ipython-input-10-c0550fd85c32>\u001b[0m in \u001b[0;36m<module>\u001b[0;34m\u001b[0m\n\u001b[0;32m----> 1\u001b[0;31m \u001b[0mauth\u001b[0m \u001b[0;34m=\u001b[0m \u001b[0mtweepy\u001b[0m\u001b[0;34m.\u001b[0m\u001b[0mAppAuthHandler\u001b[0m\u001b[0;34m(\u001b[0m\u001b[0mconsumer_key\u001b[0m\u001b[0;34m,\u001b[0m \u001b[0mconsumer_secret\u001b[0m\u001b[0;34m)\u001b[0m\u001b[0;34m\u001b[0m\u001b[0;34m\u001b[0m\u001b[0m\n\u001b[0m",
      "\u001b[0;31mNameError\u001b[0m: name 'tweepy' is not defined"
     ]
    }
   ],
   "source": [
    "auth = tweepy.AppAuthHandler(consumer_key, consumer_secret)"
   ]
  },
  {
   "cell_type": "code",
   "execution_count": 58,
   "metadata": {},
   "outputs": [],
   "source": [
    "tweets = api.user_timeline(screen_name=\"LadyofCrypto1\", \n",
    "                           # 200 is the maximum allowed count\n",
    "                           count=200,\n",
    "                           include_rts = False,\n",
    "                           # Necessary to keep full_text \n",
    "                           # otherwise only the first 140 words are extracted\n",
    "                           tweet_mode = 'extended'\n",
    "                           )"
   ]
  },
  {
   "cell_type": "code",
   "execution_count": 59,
   "metadata": {},
   "outputs": [
    {
     "data": {
      "text/plain": [
       "Status(_api=<tweepy.api.API object at 0x7fcb52a48358>, _json={'created_at': 'Fri Nov 26 17:13:38 +0000 2021', 'id': 1464281204769935373, 'id_str': '1464281204769935373', 'full_text': \"@crypto_iso I tweeted this.\\n\\nNow I am getting asked for my next gem in every tweet lol. I do not think it's something you should envy.\\n\\nIt's why I have been off most of today. Trying to figure out if I should keep doing this.\\n\\nhttps://t.co/qSY6RLAy0A\", 'truncated': False, 'display_text_range': [12, 250], 'entities': {'hashtags': [], 'symbols': [], 'user_mentions': [{'screen_name': 'crypto_iso', 'name': 'CryptoISO', 'id': 1112370699161751553, 'id_str': '1112370699161751553', 'indices': [0, 11]}], 'urls': [{'url': 'https://t.co/qSY6RLAy0A', 'expanded_url': 'https://twitter.com/LadyofCrypto1/status/1463921641373802512?t=kfJJnRsGb8TFz4OPMtYEow&s=09', 'display_url': 'twitter.com/LadyofCrypto1/…', 'indices': [227, 250]}]}, 'source': '<a href=\"http://twitter.com/download/android\" rel=\"nofollow\">Twitter for Android</a>', 'in_reply_to_status_id': 1464279010364559391, 'in_reply_to_status_id_str': '1464279010364559391', 'in_reply_to_user_id': 1112370699161751553, 'in_reply_to_user_id_str': '1112370699161751553', 'in_reply_to_screen_name': 'crypto_iso', 'user': {'id': 1435224897299550217, 'id_str': '1435224897299550217', 'name': 'Lady of Crypto 💎👑', 'screen_name': 'LadyofCrypto1', 'location': 'United Kingdom', 'description': \"Crypto & NFT investor / Gem Queen💎👑/ Trader / Fitness / Dad Jokes / Gaming Crypto Fanatic\\n\\nMy tweets are not financial advice. I won't DM you.\", 'url': 'https://t.co/tMAlEnsqR7', 'entities': {'url': {'urls': [{'url': 'https://t.co/tMAlEnsqR7', 'expanded_url': 'http://ladyofcrypto.substack.com', 'display_url': 'ladyofcrypto.substack.com', 'indices': [0, 23]}]}, 'description': {'urls': []}}, 'protected': False, 'followers_count': 94366, 'friends_count': 741, 'listed_count': 636, 'created_at': 'Tue Sep 07 12:54:23 +0000 2021', 'favourites_count': 12217, 'utc_offset': None, 'time_zone': None, 'geo_enabled': False, 'verified': False, 'statuses_count': 7914, 'lang': None, 'contributors_enabled': False, 'is_translator': False, 'is_translation_enabled': False, 'profile_background_color': 'F5F8FA', 'profile_background_image_url': None, 'profile_background_image_url_https': None, 'profile_background_tile': False, 'profile_image_url': 'http://pbs.twimg.com/profile_images/1464923438364114947/o3iQ4gbN_normal.jpg', 'profile_image_url_https': 'https://pbs.twimg.com/profile_images/1464923438364114947/o3iQ4gbN_normal.jpg', 'profile_banner_url': 'https://pbs.twimg.com/profile_banners/1435224897299550217/1631569462', 'profile_link_color': '1DA1F2', 'profile_sidebar_border_color': 'C0DEED', 'profile_sidebar_fill_color': 'DDEEF6', 'profile_text_color': '333333', 'profile_use_background_image': True, 'has_extended_profile': True, 'default_profile': True, 'default_profile_image': False, 'following': None, 'follow_request_sent': None, 'notifications': None, 'translator_type': 'none', 'withheld_in_countries': []}, 'geo': None, 'coordinates': None, 'place': None, 'contributors': None, 'is_quote_status': True, 'quoted_status_id': 1463921641373802512, 'quoted_status_id_str': '1463921641373802512', 'quoted_status_permalink': {'url': 'https://t.co/qSY6RLAy0A', 'expanded': 'https://twitter.com/LadyofCrypto1/status/1463921641373802512?t=kfJJnRsGb8TFz4OPMtYEow&s=09', 'display': 'twitter.com/LadyofCrypto1/…'}, 'quoted_status': {'created_at': 'Thu Nov 25 17:24:52 +0000 2021', 'id': 1463921641373802512, 'id_str': '1463921641373802512', 'full_text': \"This year I started with $6557, today I hit $1 mil \\U0001f973\\U0001f973\\n\\nI didn't do it with $BTC, $ETH, $SHIB, $ADA. I bought:\\n\\n$ILV $34\\n$BLOK $0.00025\\n$SAND $0.06\\n$MANA $0.23\\n$AXS $1.22\\n$SOL $14.20\\n\\nI am sharing my next 50x #PlayToEarn gem tonight. Never too late to make it in #crypto.\", 'truncated': False, 'display_text_range': [0, 270], 'entities': {'hashtags': [{'text': 'PlayToEarn', 'indices': [208, 219]}, {'text': 'crypto', 'indices': [262, 269]}], 'symbols': [{'text': 'BTC', 'indices': [75, 79]}, {'text': 'ETH', 'indices': [81, 85]}, {'text': 'SHIB', 'indices': [87, 92]}, {'text': 'ADA', 'indices': [94, 98]}, {'text': 'ILV', 'indices': [111, 115]}, {'text': 'BLOK', 'indices': [120, 125]}, {'text': 'SAND', 'indices': [135, 140]}, {'text': 'MANA', 'indices': [147, 152]}, {'text': 'AXS', 'indices': [159, 163]}, {'text': 'SOL', 'indices': [170, 174]}], 'user_mentions': [], 'urls': []}, 'source': '<a href=\"https://mobile.twitter.com\" rel=\"nofollow\">Twitter Web App</a>', 'in_reply_to_status_id': None, 'in_reply_to_status_id_str': None, 'in_reply_to_user_id': None, 'in_reply_to_user_id_str': None, 'in_reply_to_screen_name': None, 'user': {'id': 1435224897299550217, 'id_str': '1435224897299550217', 'name': 'Lady of Crypto 💎👑', 'screen_name': 'LadyofCrypto1', 'location': 'United Kingdom', 'description': \"Crypto & NFT investor / Gem Queen💎👑/ Trader / Fitness / Dad Jokes / Gaming Crypto Fanatic\\n\\nMy tweets are not financial advice. I won't DM you.\", 'url': 'https://t.co/tMAlEnsqR7', 'entities': {'url': {'urls': [{'url': 'https://t.co/tMAlEnsqR7', 'expanded_url': 'http://ladyofcrypto.substack.com', 'display_url': 'ladyofcrypto.substack.com', 'indices': [0, 23]}]}, 'description': {'urls': []}}, 'protected': False, 'followers_count': 94366, 'friends_count': 741, 'listed_count': 636, 'created_at': 'Tue Sep 07 12:54:23 +0000 2021', 'favourites_count': 12217, 'utc_offset': None, 'time_zone': None, 'geo_enabled': False, 'verified': False, 'statuses_count': 7914, 'lang': None, 'contributors_enabled': False, 'is_translator': False, 'is_translation_enabled': False, 'profile_background_color': 'F5F8FA', 'profile_background_image_url': None, 'profile_background_image_url_https': None, 'profile_background_tile': False, 'profile_image_url': 'http://pbs.twimg.com/profile_images/1464923438364114947/o3iQ4gbN_normal.jpg', 'profile_image_url_https': 'https://pbs.twimg.com/profile_images/1464923438364114947/o3iQ4gbN_normal.jpg', 'profile_banner_url': 'https://pbs.twimg.com/profile_banners/1435224897299550217/1631569462', 'profile_link_color': '1DA1F2', 'profile_sidebar_border_color': 'C0DEED', 'profile_sidebar_fill_color': 'DDEEF6', 'profile_text_color': '333333', 'profile_use_background_image': True, 'has_extended_profile': True, 'default_profile': True, 'default_profile_image': False, 'following': None, 'follow_request_sent': None, 'notifications': None, 'translator_type': 'none', 'withheld_in_countries': []}, 'geo': None, 'coordinates': None, 'place': None, 'contributors': None, 'is_quote_status': False, 'retweet_count': 2450, 'favorite_count': 24320, 'favorited': False, 'retweeted': False, 'lang': 'en'}, 'retweet_count': 1, 'favorite_count': 21, 'favorited': False, 'retweeted': False, 'possibly_sensitive': False, 'lang': 'en'}, created_at=datetime.datetime(2021, 11, 26, 17, 13, 38, tzinfo=datetime.timezone.utc), id=1464281204769935373, id_str='1464281204769935373', full_text=\"@crypto_iso I tweeted this.\\n\\nNow I am getting asked for my next gem in every tweet lol. I do not think it's something you should envy.\\n\\nIt's why I have been off most of today. Trying to figure out if I should keep doing this.\\n\\nhttps://t.co/qSY6RLAy0A\", truncated=False, display_text_range=[12, 250], entities={'hashtags': [], 'symbols': [], 'user_mentions': [{'screen_name': 'crypto_iso', 'name': 'CryptoISO', 'id': 1112370699161751553, 'id_str': '1112370699161751553', 'indices': [0, 11]}], 'urls': [{'url': 'https://t.co/qSY6RLAy0A', 'expanded_url': 'https://twitter.com/LadyofCrypto1/status/1463921641373802512?t=kfJJnRsGb8TFz4OPMtYEow&s=09', 'display_url': 'twitter.com/LadyofCrypto1/…', 'indices': [227, 250]}]}, source='Twitter for Android', source_url='http://twitter.com/download/android', in_reply_to_status_id=1464279010364559391, in_reply_to_status_id_str='1464279010364559391', in_reply_to_user_id=1112370699161751553, in_reply_to_user_id_str='1112370699161751553', in_reply_to_screen_name='crypto_iso', author=User(_api=<tweepy.api.API object at 0x7fcb52a48358>, _json={'id': 1435224897299550217, 'id_str': '1435224897299550217', 'name': 'Lady of Crypto 💎👑', 'screen_name': 'LadyofCrypto1', 'location': 'United Kingdom', 'description': \"Crypto & NFT investor / Gem Queen💎👑/ Trader / Fitness / Dad Jokes / Gaming Crypto Fanatic\\n\\nMy tweets are not financial advice. I won't DM you.\", 'url': 'https://t.co/tMAlEnsqR7', 'entities': {'url': {'urls': [{'url': 'https://t.co/tMAlEnsqR7', 'expanded_url': 'http://ladyofcrypto.substack.com', 'display_url': 'ladyofcrypto.substack.com', 'indices': [0, 23]}]}, 'description': {'urls': []}}, 'protected': False, 'followers_count': 94366, 'friends_count': 741, 'listed_count': 636, 'created_at': 'Tue Sep 07 12:54:23 +0000 2021', 'favourites_count': 12217, 'utc_offset': None, 'time_zone': None, 'geo_enabled': False, 'verified': False, 'statuses_count': 7914, 'lang': None, 'contributors_enabled': False, 'is_translator': False, 'is_translation_enabled': False, 'profile_background_color': 'F5F8FA', 'profile_background_image_url': None, 'profile_background_image_url_https': None, 'profile_background_tile': False, 'profile_image_url': 'http://pbs.twimg.com/profile_images/1464923438364114947/o3iQ4gbN_normal.jpg', 'profile_image_url_https': 'https://pbs.twimg.com/profile_images/1464923438364114947/o3iQ4gbN_normal.jpg', 'profile_banner_url': 'https://pbs.twimg.com/profile_banners/1435224897299550217/1631569462', 'profile_link_color': '1DA1F2', 'profile_sidebar_border_color': 'C0DEED', 'profile_sidebar_fill_color': 'DDEEF6', 'profile_text_color': '333333', 'profile_use_background_image': True, 'has_extended_profile': True, 'default_profile': True, 'default_profile_image': False, 'following': None, 'follow_request_sent': None, 'notifications': None, 'translator_type': 'none', 'withheld_in_countries': []}, id=1435224897299550217, id_str='1435224897299550217', name='Lady of Crypto 💎👑', screen_name='LadyofCrypto1', location='United Kingdom', description=\"Crypto & NFT investor / Gem Queen💎👑/ Trader / Fitness / Dad Jokes / Gaming Crypto Fanatic\\n\\nMy tweets are not financial advice. I won't DM you.\", url='https://t.co/tMAlEnsqR7', entities={'url': {'urls': [{'url': 'https://t.co/tMAlEnsqR7', 'expanded_url': 'http://ladyofcrypto.substack.com', 'display_url': 'ladyofcrypto.substack.com', 'indices': [0, 23]}]}, 'description': {'urls': []}}, protected=False, followers_count=94366, friends_count=741, listed_count=636, created_at=datetime.datetime(2021, 9, 7, 12, 54, 23, tzinfo=datetime.timezone.utc), favourites_count=12217, utc_offset=None, time_zone=None, geo_enabled=False, verified=False, statuses_count=7914, lang=None, contributors_enabled=False, is_translator=False, is_translation_enabled=False, profile_background_color='F5F8FA', profile_background_image_url=None, profile_background_image_url_https=None, profile_background_tile=False, profile_image_url='http://pbs.twimg.com/profile_images/1464923438364114947/o3iQ4gbN_normal.jpg', profile_image_url_https='https://pbs.twimg.com/profile_images/1464923438364114947/o3iQ4gbN_normal.jpg', profile_banner_url='https://pbs.twimg.com/profile_banners/1435224897299550217/1631569462', profile_link_color='1DA1F2', profile_sidebar_border_color='C0DEED', profile_sidebar_fill_color='DDEEF6', profile_text_color='333333', profile_use_background_image=True, has_extended_profile=True, default_profile=True, default_profile_image=False, following=False, follow_request_sent=None, notifications=None, translator_type='none', withheld_in_countries=[]), user=User(_api=<tweepy.api.API object at 0x7fcb52a48358>, _json={'id': 1435224897299550217, 'id_str': '1435224897299550217', 'name': 'Lady of Crypto 💎👑', 'screen_name': 'LadyofCrypto1', 'location': 'United Kingdom', 'description': \"Crypto & NFT investor / Gem Queen💎👑/ Trader / Fitness / Dad Jokes / Gaming Crypto Fanatic\\n\\nMy tweets are not financial advice. I won't DM you.\", 'url': 'https://t.co/tMAlEnsqR7', 'entities': {'url': {'urls': [{'url': 'https://t.co/tMAlEnsqR7', 'expanded_url': 'http://ladyofcrypto.substack.com', 'display_url': 'ladyofcrypto.substack.com', 'indices': [0, 23]}]}, 'description': {'urls': []}}, 'protected': False, 'followers_count': 94366, 'friends_count': 741, 'listed_count': 636, 'created_at': 'Tue Sep 07 12:54:23 +0000 2021', 'favourites_count': 12217, 'utc_offset': None, 'time_zone': None, 'geo_enabled': False, 'verified': False, 'statuses_count': 7914, 'lang': None, 'contributors_enabled': False, 'is_translator': False, 'is_translation_enabled': False, 'profile_background_color': 'F5F8FA', 'profile_background_image_url': None, 'profile_background_image_url_https': None, 'profile_background_tile': False, 'profile_image_url': 'http://pbs.twimg.com/profile_images/1464923438364114947/o3iQ4gbN_normal.jpg', 'profile_image_url_https': 'https://pbs.twimg.com/profile_images/1464923438364114947/o3iQ4gbN_normal.jpg', 'profile_banner_url': 'https://pbs.twimg.com/profile_banners/1435224897299550217/1631569462', 'profile_link_color': '1DA1F2', 'profile_sidebar_border_color': 'C0DEED', 'profile_sidebar_fill_color': 'DDEEF6', 'profile_text_color': '333333', 'profile_use_background_image': True, 'has_extended_profile': True, 'default_profile': True, 'default_profile_image': False, 'following': None, 'follow_request_sent': None, 'notifications': None, 'translator_type': 'none', 'withheld_in_countries': []}, id=1435224897299550217, id_str='1435224897299550217', name='Lady of Crypto 💎👑', screen_name='LadyofCrypto1', location='United Kingdom', description=\"Crypto & NFT investor / Gem Queen💎👑/ Trader / Fitness / Dad Jokes / Gaming Crypto Fanatic\\n\\nMy tweets are not financial advice. I won't DM you.\", url='https://t.co/tMAlEnsqR7', entities={'url': {'urls': [{'url': 'https://t.co/tMAlEnsqR7', 'expanded_url': 'http://ladyofcrypto.substack.com', 'display_url': 'ladyofcrypto.substack.com', 'indices': [0, 23]}]}, 'description': {'urls': []}}, protected=False, followers_count=94366, friends_count=741, listed_count=636, created_at=datetime.datetime(2021, 9, 7, 12, 54, 23, tzinfo=datetime.timezone.utc), favourites_count=12217, utc_offset=None, time_zone=None, geo_enabled=False, verified=False, statuses_count=7914, lang=None, contributors_enabled=False, is_translator=False, is_translation_enabled=False, profile_background_color='F5F8FA', profile_background_image_url=None, profile_background_image_url_https=None, profile_background_tile=False, profile_image_url='http://pbs.twimg.com/profile_images/1464923438364114947/o3iQ4gbN_normal.jpg', profile_image_url_https='https://pbs.twimg.com/profile_images/1464923438364114947/o3iQ4gbN_normal.jpg', profile_banner_url='https://pbs.twimg.com/profile_banners/1435224897299550217/1631569462', profile_link_color='1DA1F2', profile_sidebar_border_color='C0DEED', profile_sidebar_fill_color='DDEEF6', profile_text_color='333333', profile_use_background_image=True, has_extended_profile=True, default_profile=True, default_profile_image=False, following=False, follow_request_sent=None, notifications=None, translator_type='none', withheld_in_countries=[]), geo=None, coordinates=None, place=None, contributors=None, is_quote_status=True, quoted_status_id=1463921641373802512, quoted_status_id_str='1463921641373802512', quoted_status_permalink={'url': 'https://t.co/qSY6RLAy0A', 'expanded': 'https://twitter.com/LadyofCrypto1/status/1463921641373802512?t=kfJJnRsGb8TFz4OPMtYEow&s=09', 'display': 'twitter.com/LadyofCrypto1/…'}, quoted_status=Status(_api=<tweepy.api.API object at 0x7fcb52a48358>, _json={'created_at': 'Thu Nov 25 17:24:52 +0000 2021', 'id': 1463921641373802512, 'id_str': '1463921641373802512', 'full_text': \"This year I started with $6557, today I hit $1 mil \\U0001f973\\U0001f973\\n\\nI didn't do it with $BTC, $ETH, $SHIB, $ADA. I bought:\\n\\n$ILV $34\\n$BLOK $0.00025\\n$SAND $0.06\\n$MANA $0.23\\n$AXS $1.22\\n$SOL $14.20\\n\\nI am sharing my next 50x #PlayToEarn gem tonight. Never too late to make it in #crypto.\", 'truncated': False, 'display_text_range': [0, 270], 'entities': {'hashtags': [{'text': 'PlayToEarn', 'indices': [208, 219]}, {'text': 'crypto', 'indices': [262, 269]}], 'symbols': [{'text': 'BTC', 'indices': [75, 79]}, {'text': 'ETH', 'indices': [81, 85]}, {'text': 'SHIB', 'indices': [87, 92]}, {'text': 'ADA', 'indices': [94, 98]}, {'text': 'ILV', 'indices': [111, 115]}, {'text': 'BLOK', 'indices': [120, 125]}, {'text': 'SAND', 'indices': [135, 140]}, {'text': 'MANA', 'indices': [147, 152]}, {'text': 'AXS', 'indices': [159, 163]}, {'text': 'SOL', 'indices': [170, 174]}], 'user_mentions': [], 'urls': []}, 'source': '<a href=\"https://mobile.twitter.com\" rel=\"nofollow\">Twitter Web App</a>', 'in_reply_to_status_id': None, 'in_reply_to_status_id_str': None, 'in_reply_to_user_id': None, 'in_reply_to_user_id_str': None, 'in_reply_to_screen_name': None, 'user': {'id': 1435224897299550217, 'id_str': '1435224897299550217', 'name': 'Lady of Crypto 💎👑', 'screen_name': 'LadyofCrypto1', 'location': 'United Kingdom', 'description': \"Crypto & NFT investor / Gem Queen💎👑/ Trader / Fitness / Dad Jokes / Gaming Crypto Fanatic\\n\\nMy tweets are not financial advice. I won't DM you.\", 'url': 'https://t.co/tMAlEnsqR7', 'entities': {'url': {'urls': [{'url': 'https://t.co/tMAlEnsqR7', 'expanded_url': 'http://ladyofcrypto.substack.com', 'display_url': 'ladyofcrypto.substack.com', 'indices': [0, 23]}]}, 'description': {'urls': []}}, 'protected': False, 'followers_count': 94366, 'friends_count': 741, 'listed_count': 636, 'created_at': 'Tue Sep 07 12:54:23 +0000 2021', 'favourites_count': 12217, 'utc_offset': None, 'time_zone': None, 'geo_enabled': False, 'verified': False, 'statuses_count': 7914, 'lang': None, 'contributors_enabled': False, 'is_translator': False, 'is_translation_enabled': False, 'profile_background_color': 'F5F8FA', 'profile_background_image_url': None, 'profile_background_image_url_https': None, 'profile_background_tile': False, 'profile_image_url': 'http://pbs.twimg.com/profile_images/1464923438364114947/o3iQ4gbN_normal.jpg', 'profile_image_url_https': 'https://pbs.twimg.com/profile_images/1464923438364114947/o3iQ4gbN_normal.jpg', 'profile_banner_url': 'https://pbs.twimg.com/profile_banners/1435224897299550217/1631569462', 'profile_link_color': '1DA1F2', 'profile_sidebar_border_color': 'C0DEED', 'profile_sidebar_fill_color': 'DDEEF6', 'profile_text_color': '333333', 'profile_use_background_image': True, 'has_extended_profile': True, 'default_profile': True, 'default_profile_image': False, 'following': None, 'follow_request_sent': None, 'notifications': None, 'translator_type': 'none', 'withheld_in_countries': []}, 'geo': None, 'coordinates': None, 'place': None, 'contributors': None, 'is_quote_status': False, 'retweet_count': 2450, 'favorite_count': 24320, 'favorited': False, 'retweeted': False, 'lang': 'en'}, created_at=datetime.datetime(2021, 11, 25, 17, 24, 52, tzinfo=datetime.timezone.utc), id=1463921641373802512, id_str='1463921641373802512', full_text=\"This year I started with $6557, today I hit $1 mil \\U0001f973\\U0001f973\\n\\nI didn't do it with $BTC, $ETH, $SHIB, $ADA. I bought:\\n\\n$ILV $34\\n$BLOK $0.00025\\n$SAND $0.06\\n$MANA $0.23\\n$AXS $1.22\\n$SOL $14.20\\n\\nI am sharing my next 50x #PlayToEarn gem tonight. Never too late to make it in #crypto.\", truncated=False, display_text_range=[0, 270], entities={'hashtags': [{'text': 'PlayToEarn', 'indices': [208, 219]}, {'text': 'crypto', 'indices': [262, 269]}], 'symbols': [{'text': 'BTC', 'indices': [75, 79]}, {'text': 'ETH', 'indices': [81, 85]}, {'text': 'SHIB', 'indices': [87, 92]}, {'text': 'ADA', 'indices': [94, 98]}, {'text': 'ILV', 'indices': [111, 115]}, {'text': 'BLOK', 'indices': [120, 125]}, {'text': 'SAND', 'indices': [135, 140]}, {'text': 'MANA', 'indices': [147, 152]}, {'text': 'AXS', 'indices': [159, 163]}, {'text': 'SOL', 'indices': [170, 174]}], 'user_mentions': [], 'urls': []}, source='Twitter Web App', source_url='https://mobile.twitter.com', in_reply_to_status_id=None, in_reply_to_status_id_str=None, in_reply_to_user_id=None, in_reply_to_user_id_str=None, in_reply_to_screen_name=None, author=User(_api=<tweepy.api.API object at 0x7fcb52a48358>, _json={'id': 1435224897299550217, 'id_str': '1435224897299550217', 'name': 'Lady of Crypto 💎👑', 'screen_name': 'LadyofCrypto1', 'location': 'United Kingdom', 'description': \"Crypto & NFT investor / Gem Queen💎👑/ Trader / Fitness / Dad Jokes / Gaming Crypto Fanatic\\n\\nMy tweets are not financial advice. I won't DM you.\", 'url': 'https://t.co/tMAlEnsqR7', 'entities': {'url': {'urls': [{'url': 'https://t.co/tMAlEnsqR7', 'expanded_url': 'http://ladyofcrypto.substack.com', 'display_url': 'ladyofcrypto.substack.com', 'indices': [0, 23]}]}, 'description': {'urls': []}}, 'protected': False, 'followers_count': 94366, 'friends_count': 741, 'listed_count': 636, 'created_at': 'Tue Sep 07 12:54:23 +0000 2021', 'favourites_count': 12217, 'utc_offset': None, 'time_zone': None, 'geo_enabled': False, 'verified': False, 'statuses_count': 7914, 'lang': None, 'contributors_enabled': False, 'is_translator': False, 'is_translation_enabled': False, 'profile_background_color': 'F5F8FA', 'profile_background_image_url': None, 'profile_background_image_url_https': None, 'profile_background_tile': False, 'profile_image_url': 'http://pbs.twimg.com/profile_images/1464923438364114947/o3iQ4gbN_normal.jpg', 'profile_image_url_https': 'https://pbs.twimg.com/profile_images/1464923438364114947/o3iQ4gbN_normal.jpg', 'profile_banner_url': 'https://pbs.twimg.com/profile_banners/1435224897299550217/1631569462', 'profile_link_color': '1DA1F2', 'profile_sidebar_border_color': 'C0DEED', 'profile_sidebar_fill_color': 'DDEEF6', 'profile_text_color': '333333', 'profile_use_background_image': True, 'has_extended_profile': True, 'default_profile': True, 'default_profile_image': False, 'following': None, 'follow_request_sent': None, 'notifications': None, 'translator_type': 'none', 'withheld_in_countries': []}, id=1435224897299550217, id_str='1435224897299550217', name='Lady of Crypto 💎👑', screen_name='LadyofCrypto1', location='United Kingdom', description=\"Crypto & NFT investor / Gem Queen💎👑/ Trader / Fitness / Dad Jokes / Gaming Crypto Fanatic\\n\\nMy tweets are not financial advice. I won't DM you.\", url='https://t.co/tMAlEnsqR7', entities={'url': {'urls': [{'url': 'https://t.co/tMAlEnsqR7', 'expanded_url': 'http://ladyofcrypto.substack.com', 'display_url': 'ladyofcrypto.substack.com', 'indices': [0, 23]}]}, 'description': {'urls': []}}, protected=False, followers_count=94366, friends_count=741, listed_count=636, created_at=datetime.datetime(2021, 9, 7, 12, 54, 23, tzinfo=datetime.timezone.utc), favourites_count=12217, utc_offset=None, time_zone=None, geo_enabled=False, verified=False, statuses_count=7914, lang=None, contributors_enabled=False, is_translator=False, is_translation_enabled=False, profile_background_color='F5F8FA', profile_background_image_url=None, profile_background_image_url_https=None, profile_background_tile=False, profile_image_url='http://pbs.twimg.com/profile_images/1464923438364114947/o3iQ4gbN_normal.jpg', profile_image_url_https='https://pbs.twimg.com/profile_images/1464923438364114947/o3iQ4gbN_normal.jpg', profile_banner_url='https://pbs.twimg.com/profile_banners/1435224897299550217/1631569462', profile_link_color='1DA1F2', profile_sidebar_border_color='C0DEED', profile_sidebar_fill_color='DDEEF6', profile_text_color='333333', profile_use_background_image=True, has_extended_profile=True, default_profile=True, default_profile_image=False, following=False, follow_request_sent=None, notifications=None, translator_type='none', withheld_in_countries=[]), user=User(_api=<tweepy.api.API object at 0x7fcb52a48358>, _json={'id': 1435224897299550217, 'id_str': '1435224897299550217', 'name': 'Lady of Crypto 💎👑', 'screen_name': 'LadyofCrypto1', 'location': 'United Kingdom', 'description': \"Crypto & NFT investor / Gem Queen💎👑/ Trader / Fitness / Dad Jokes / Gaming Crypto Fanatic\\n\\nMy tweets are not financial advice. I won't DM you.\", 'url': 'https://t.co/tMAlEnsqR7', 'entities': {'url': {'urls': [{'url': 'https://t.co/tMAlEnsqR7', 'expanded_url': 'http://ladyofcrypto.substack.com', 'display_url': 'ladyofcrypto.substack.com', 'indices': [0, 23]}]}, 'description': {'urls': []}}, 'protected': False, 'followers_count': 94366, 'friends_count': 741, 'listed_count': 636, 'created_at': 'Tue Sep 07 12:54:23 +0000 2021', 'favourites_count': 12217, 'utc_offset': None, 'time_zone': None, 'geo_enabled': False, 'verified': False, 'statuses_count': 7914, 'lang': None, 'contributors_enabled': False, 'is_translator': False, 'is_translation_enabled': False, 'profile_background_color': 'F5F8FA', 'profile_background_image_url': None, 'profile_background_image_url_https': None, 'profile_background_tile': False, 'profile_image_url': 'http://pbs.twimg.com/profile_images/1464923438364114947/o3iQ4gbN_normal.jpg', 'profile_image_url_https': 'https://pbs.twimg.com/profile_images/1464923438364114947/o3iQ4gbN_normal.jpg', 'profile_banner_url': 'https://pbs.twimg.com/profile_banners/1435224897299550217/1631569462', 'profile_link_color': '1DA1F2', 'profile_sidebar_border_color': 'C0DEED', 'profile_sidebar_fill_color': 'DDEEF6', 'profile_text_color': '333333', 'profile_use_background_image': True, 'has_extended_profile': True, 'default_profile': True, 'default_profile_image': False, 'following': None, 'follow_request_sent': None, 'notifications': None, 'translator_type': 'none', 'withheld_in_countries': []}, id=1435224897299550217, id_str='1435224897299550217', name='Lady of Crypto 💎👑', screen_name='LadyofCrypto1', location='United Kingdom', description=\"Crypto & NFT investor / Gem Queen💎👑/ Trader / Fitness / Dad Jokes / Gaming Crypto Fanatic\\n\\nMy tweets are not financial advice. I won't DM you.\", url='https://t.co/tMAlEnsqR7', entities={'url': {'urls': [{'url': 'https://t.co/tMAlEnsqR7', 'expanded_url': 'http://ladyofcrypto.substack.com', 'display_url': 'ladyofcrypto.substack.com', 'indices': [0, 23]}]}, 'description': {'urls': []}}, protected=False, followers_count=94366, friends_count=741, listed_count=636, created_at=datetime.datetime(2021, 9, 7, 12, 54, 23, tzinfo=datetime.timezone.utc), favourites_count=12217, utc_offset=None, time_zone=None, geo_enabled=False, verified=False, statuses_count=7914, lang=None, contributors_enabled=False, is_translator=False, is_translation_enabled=False, profile_background_color='F5F8FA', profile_background_image_url=None, profile_background_image_url_https=None, profile_background_tile=False, profile_image_url='http://pbs.twimg.com/profile_images/1464923438364114947/o3iQ4gbN_normal.jpg', profile_image_url_https='https://pbs.twimg.com/profile_images/1464923438364114947/o3iQ4gbN_normal.jpg', profile_banner_url='https://pbs.twimg.com/profile_banners/1435224897299550217/1631569462', profile_link_color='1DA1F2', profile_sidebar_border_color='C0DEED', profile_sidebar_fill_color='DDEEF6', profile_text_color='333333', profile_use_background_image=True, has_extended_profile=True, default_profile=True, default_profile_image=False, following=False, follow_request_sent=None, notifications=None, translator_type='none', withheld_in_countries=[]), geo=None, coordinates=None, place=None, contributors=None, is_quote_status=False, retweet_count=2450, favorite_count=24320, favorited=False, retweeted=False, lang='en'), retweet_count=1, favorite_count=21, favorited=False, retweeted=False, possibly_sensitive=False, lang='en')"
      ]
     },
     "execution_count": 59,
     "metadata": {},
     "output_type": "execute_result"
    }
   ],
   "source": [
    "tweets[195]"
   ]
  },
  {
   "cell_type": "code",
   "execution_count": 62,
   "metadata": {},
   "outputs": [
    {
     "name": "stdout",
     "output_type": "stream",
     "text": [
      "ID: 1465088235667968012\n",
      "2021-11-28 22:40:30+00:00\n",
      "@Christi65708411 @Adouble212 Exactly\n",
      "\n",
      "\n",
      "ID: 1465087547164479494\n",
      "2021-11-28 22:37:45+00:00\n",
      "@VulcanForged Damn I was writing a thread on AAG too. This is great.\n",
      "\n",
      "\n",
      "ID: 1465085365623181313\n",
      "2021-11-28 22:29:05+00:00\n",
      "@Adouble212 We aren't out of the woods yet but we could all use some perspective. In 2007 BTC didn't even exist, now it's 56k\n",
      "\n",
      "\n",
      "ID: 1465083492673499138\n",
      "2021-11-28 22:21:39+00:00\n",
      "@willposkett @Ali_JaFF_ I wish I had the juice\n",
      "\n",
      "\n",
      "ID: 1465082576385847299\n",
      "2021-11-28 22:18:00+00:00\n",
      "@TysonThe2nd Mutal 🤝\n",
      "\n",
      "\n"
     ]
    }
   ],
   "source": [
    "for info in tweets[:5]:\n",
    "     print(\"ID: {}\".format(info.id))\n",
    "     print(info.created_at)\n",
    "     print(info.full_text)\n",
    "     print(\"\\n\")"
   ]
  },
  {
   "cell_type": "code",
   "execution_count": 11,
   "metadata": {},
   "outputs": [
    {
     "ename": "NameError",
     "evalue": "name 'crypto_key' is not defined",
     "output_type": "error",
     "traceback": [
      "\u001b[0;31m---------------------------------------------------------------------------\u001b[0m",
      "\u001b[0;31mNameError\u001b[0m                                 Traceback (most recent call last)",
      "\u001b[0;32m<ipython-input-11-3058a392eeed>\u001b[0m in \u001b[0;36m<module>\u001b[0;34m\u001b[0m\n\u001b[1;32m      1\u001b[0m \u001b[0;32mimport\u001b[0m \u001b[0murllib\u001b[0m\u001b[0;34m.\u001b[0m\u001b[0mrequest\u001b[0m\u001b[0;34m\u001b[0m\u001b[0;34m\u001b[0m\u001b[0m\n\u001b[0;32m----> 2\u001b[0;31m \u001b[0murl\u001b[0m \u001b[0;34m=\u001b[0m \u001b[0;34m\"https://api.nomics.com/v1/currencies/ticker?key=\"\u001b[0m \u001b[0;34m+\u001b[0m \u001b[0mcrypto_key\u001b[0m \u001b[0;34m+\u001b[0m \u001b[0;34m\"&ids=POLY&interval=1d,30d&convert=USD&per-page=100&page=1\"\u001b[0m\u001b[0;34m\u001b[0m\u001b[0;34m\u001b[0m\u001b[0m\n\u001b[0m\u001b[1;32m      3\u001b[0m \u001b[0mprint\u001b[0m\u001b[0;34m(\u001b[0m\u001b[0murllib\u001b[0m\u001b[0;34m.\u001b[0m\u001b[0mrequest\u001b[0m\u001b[0;34m.\u001b[0m\u001b[0murlopen\u001b[0m\u001b[0;34m(\u001b[0m\u001b[0murl\u001b[0m\u001b[0;34m)\u001b[0m\u001b[0;34m.\u001b[0m\u001b[0mread\u001b[0m\u001b[0;34m(\u001b[0m\u001b[0;34m)\u001b[0m\u001b[0;34m)\u001b[0m\u001b[0;34m\u001b[0m\u001b[0;34m\u001b[0m\u001b[0m\n",
      "\u001b[0;31mNameError\u001b[0m: name 'crypto_key' is not defined"
     ]
    }
   ],
   "source": [
    "import urllib.request\n",
    "url = \"https://api.nomics.com/v1/currencies/ticker?key=\" + crypto_key + \"&ids=POLY&interval=1d,30d&convert=USD&per-page=100&page=1\"\n",
    "print(urllib.request.urlopen(url).read())\n"
   ]
  },
  {
   "cell_type": "code",
   "execution_count": 172,
   "metadata": {},
   "outputs": [
    {
     "name": "stdout",
     "output_type": "stream",
     "text": [
      "b'[]\\n'\n"
     ]
    }
   ],
   "source": [
    "url= \"https://api.nomics.com/v1/exchange-rates/history?key=d3c78c624d3a53b3c65efca117a241053f1c7bbd&currency=DASH&start=2021-11-14T00%3A00%3A00Z&end=2021-11-24T00%3A00%3A00Z\"\n",
    "print(urllib.request.urlopen(url).read())"
   ]
  },
  {
   "cell_type": "code",
   "execution_count": 167,
   "metadata": {},
   "outputs": [],
   "source": [
    "my_data=requests.get(url).json()\n",
    "df=pd.DataFrame(my_data)"
   ]
  },
  {
   "cell_type": "code",
   "execution_count": 161,
   "metadata": {},
   "outputs": [
    {
     "data": {
      "text/html": [
       "<div>\n",
       "<style scoped>\n",
       "    .dataframe tbody tr th:only-of-type {\n",
       "        vertical-align: middle;\n",
       "    }\n",
       "\n",
       "    .dataframe tbody tr th {\n",
       "        vertical-align: top;\n",
       "    }\n",
       "\n",
       "    .dataframe thead th {\n",
       "        text-align: right;\n",
       "    }\n",
       "</style>\n",
       "<table border=\"1\" class=\"dataframe\">\n",
       "  <thead>\n",
       "    <tr style=\"text-align: right;\">\n",
       "      <th></th>\n",
       "      <th>timestamp</th>\n",
       "      <th>rate</th>\n",
       "    </tr>\n",
       "  </thead>\n",
       "  <tbody>\n",
       "    <tr>\n",
       "      <th>0</th>\n",
       "      <td>2021-11-14T00:00:00Z</td>\n",
       "      <td>65562.0407299127593862314221799174730383</td>\n",
       "    </tr>\n",
       "    <tr>\n",
       "      <th>1</th>\n",
       "      <td>2021-11-15T00:00:00Z</td>\n",
       "      <td>63656.600285154555399412432525623080449</td>\n",
       "    </tr>\n",
       "    <tr>\n",
       "      <th>2</th>\n",
       "      <td>2021-11-16T00:00:00Z</td>\n",
       "      <td>60150.24055002407492816745564181096076030</td>\n",
       "    </tr>\n",
       "    <tr>\n",
       "      <th>3</th>\n",
       "      <td>2021-11-17T00:00:00Z</td>\n",
       "      <td>60374.59659941780248532145496851419256709</td>\n",
       "    </tr>\n",
       "    <tr>\n",
       "      <th>4</th>\n",
       "      <td>2021-11-18T00:00:00Z</td>\n",
       "      <td>56912.89128822821581637055355587019524643</td>\n",
       "    </tr>\n",
       "    <tr>\n",
       "      <th>5</th>\n",
       "      <td>2021-11-19T00:00:00Z</td>\n",
       "      <td>58156.62403308490221963316822832306769105</td>\n",
       "    </tr>\n",
       "    <tr>\n",
       "      <th>6</th>\n",
       "      <td>2021-11-20T00:00:00Z</td>\n",
       "      <td>59753.08917317032767588807597565701451730</td>\n",
       "    </tr>\n",
       "    <tr>\n",
       "      <th>7</th>\n",
       "      <td>2021-11-21T00:00:00Z</td>\n",
       "      <td>58773.72044091704754515405653917305911319</td>\n",
       "    </tr>\n",
       "    <tr>\n",
       "      <th>8</th>\n",
       "      <td>2021-11-22T00:00:00Z</td>\n",
       "      <td>56297.34196170748458977626717040482673705</td>\n",
       "    </tr>\n",
       "    <tr>\n",
       "      <th>9</th>\n",
       "      <td>2021-11-23T00:00:00Z</td>\n",
       "      <td>57569.50491446103131133805389893805135486</td>\n",
       "    </tr>\n",
       "    <tr>\n",
       "      <th>10</th>\n",
       "      <td>2021-11-24T00:00:00Z</td>\n",
       "      <td>57196.79928002377414815168972096743164429</td>\n",
       "    </tr>\n",
       "  </tbody>\n",
       "</table>\n",
       "</div>"
      ],
      "text/plain": [
       "               timestamp                                       rate\n",
       "0   2021-11-14T00:00:00Z   65562.0407299127593862314221799174730383\n",
       "1   2021-11-15T00:00:00Z    63656.600285154555399412432525623080449\n",
       "2   2021-11-16T00:00:00Z  60150.24055002407492816745564181096076030\n",
       "3   2021-11-17T00:00:00Z  60374.59659941780248532145496851419256709\n",
       "4   2021-11-18T00:00:00Z  56912.89128822821581637055355587019524643\n",
       "5   2021-11-19T00:00:00Z  58156.62403308490221963316822832306769105\n",
       "6   2021-11-20T00:00:00Z  59753.08917317032767588807597565701451730\n",
       "7   2021-11-21T00:00:00Z  58773.72044091704754515405653917305911319\n",
       "8   2021-11-22T00:00:00Z  56297.34196170748458977626717040482673705\n",
       "9   2021-11-23T00:00:00Z  57569.50491446103131133805389893805135486\n",
       "10  2021-11-24T00:00:00Z  57196.79928002377414815168972096743164429"
      ]
     },
     "execution_count": 161,
     "metadata": {},
     "output_type": "execute_result"
    }
   ],
   "source": [
    "df"
   ]
  },
  {
   "cell_type": "code",
   "execution_count": 162,
   "metadata": {},
   "outputs": [
    {
     "data": {
      "text/plain": [
       "timestamp    object\n",
       "rate         object\n",
       "dtype: object"
      ]
     },
     "execution_count": 162,
     "metadata": {},
     "output_type": "execute_result"
    }
   ],
   "source": [
    "df.rate.astype(str).astype(float)\n",
    "df.dtypes"
   ]
  },
  {
   "cell_type": "code",
   "execution_count": 163,
   "metadata": {},
   "outputs": [
    {
     "data": {
      "text/plain": [
       "[<matplotlib.lines.Line2D at 0x7fcb56f6e080>]"
      ]
     },
     "execution_count": 163,
     "metadata": {},
     "output_type": "execute_result"
    },
    {
     "data": {
      "image/png": "[encoded data removed]",
      "text/plain": [
       "<Figure size 432x288 with 1 Axes>"
      ]
     },
     "metadata": {
      "needs_background": "light"
     },
     "output_type": "display_data"
    }
   ],
   "source": [
    "plt.plot(df.timestamp,df.rate.astype(str).astype(float))"
   ]
  },
  {
   "cell_type": "code",
   "execution_count": null,
   "metadata": {},
   "outputs": [],
   "source": []
  },
  {
   "cell_type": "code",
   "execution_count": 327,
   "metadata": {},
   "outputs": [],
   "source": [
    "url=\"https://min-api.cryptocompare.com/data/v2/histoday?fsym=ALICE&tsym=USD&limit=7&api_key=0aef86b70e6092ab15386d2bc845370e8836a810f1b65ece64a09b5e48d6c9f1\""
   ]
  },
  {
   "cell_type": "code",
   "execution_count": 328,
   "metadata": {},
   "outputs": [],
   "source": [
    "my_data=requests.get(url).json()"
   ]
  },
  {
   "cell_type": "code",
   "execution_count": 329,
   "metadata": {},
   "outputs": [],
   "source": [
    "df=pd.DataFrame(my_data)"
   ]
  },
  {
   "cell_type": "code",
   "execution_count": 330,
   "metadata": {},
   "outputs": [
    {
     "data": {
      "text/plain": [
       "4"
      ]
     },
     "execution_count": 330,
     "metadata": {},
     "output_type": "execute_result"
    }
   ],
   "source": [
    "len(df)"
   ]
  },
  {
   "cell_type": "code",
   "execution_count": 335,
   "metadata": {},
   "outputs": [],
   "source": [
    "df=pd.DataFrame(my_data['Data']['Data'])"
   ]
  },
  {
   "cell_type": "code",
   "execution_count": 336,
   "metadata": {},
   "outputs": [
    {
     "data": {
      "text/plain": [
       "time                  int64\n",
       "high                float64\n",
       "low                 float64\n",
       "open                float64\n",
       "volumefrom          float64\n",
       "volumeto            float64\n",
       "close               float64\n",
       "conversionType       object\n",
       "conversionSymbol     object\n",
       "dtype: object"
      ]
     },
     "execution_count": 336,
     "metadata": {},
     "output_type": "execute_result"
    }
   ],
   "source": [
    "df.dtypes"
   ]
  },
  {
   "cell_type": "code",
   "execution_count": 344,
   "metadata": {},
   "outputs": [
    {
     "data": {
      "text/plain": [
       "[<matplotlib.lines.Line2D at 0x7fcb57bc9358>]"
      ]
     },
     "execution_count": 344,
     "metadata": {},
     "output_type": "execute_result"
    },
    {
     "data": {
      "image/png": "[encoded data removed]",
      "text/plain": [
       "<Figure size 432x288 with 1 Axes>"
      ]
     },
     "metadata": {
      "needs_background": "light"
     },
     "output_type": "display_data"
    }
   ],
   "source": [
    "plt.plot(pd.to_datetime(df['time'], unit='s'),df.close)"
   ]
  },
  {
   "cell_type": "code",
   "execution_count": null,
   "metadata": {},
   "outputs": [],
   "source": []
  },
  {
   "cell_type": "code",
   "execution_count": 345,
   "metadata": {},
   "outputs": [],
   "source": [
    "df['time']=pd.to_datetime(df['time'], unit='s')"
   ]
  },
  {
   "cell_type": "markdown",
   "metadata": {},
   "source": [
    "#### my_data"
   ]
  },
  {
   "cell_type": "code",
   "execution_count": 343,
   "metadata": {},
   "outputs": [
    {
     "ename": "TypeError",
     "evalue": "to_datetime() got an unexpected keyword argument 'inplace'",
     "output_type": "error",
     "traceback": [
      "\u001b[0;31m---------------------------------------------------------------------------\u001b[0m",
      "\u001b[0;31mTypeError\u001b[0m                                 Traceback (most recent call last)",
      "\u001b[0;32m<ipython-input-343-c268c52505fe>\u001b[0m in \u001b[0;36m<module>\u001b[0;34m\u001b[0m\n\u001b[0;32m----> 1\u001b[0;31m \u001b[0mpd\u001b[0m\u001b[0;34m.\u001b[0m\u001b[0mto_datetime\u001b[0m\u001b[0;34m(\u001b[0m\u001b[0mdf\u001b[0m\u001b[0;34m[\u001b[0m\u001b[0;34m'time'\u001b[0m\u001b[0;34m]\u001b[0m\u001b[0;34m,\u001b[0m \u001b[0munit\u001b[0m\u001b[0;34m=\u001b[0m\u001b[0;34m's'\u001b[0m\u001b[0;34m,\u001b[0m\u001b[0minplace\u001b[0m\u001b[0;34m=\u001b[0m\u001b[0;32mTrue\u001b[0m\u001b[0;34m)\u001b[0m\u001b[0;34m\u001b[0m\u001b[0;34m\u001b[0m\u001b[0m\n\u001b[0m",
      "\u001b[0;31mTypeError\u001b[0m: to_datetime() got an unexpected keyword argument 'inplace'"
     ]
    }
   ],
   "source": [
    "pd.to_datetime(df['time'], unit='s')"
   ]
  },
  {
   "cell_type": "code",
   "execution_count": 346,
   "metadata": {},
   "outputs": [
    {
     "data": {
      "text/html": [
       "<div>\n",
       "<style scoped>\n",
       "    .dataframe tbody tr th:only-of-type {\n",
       "        vertical-align: middle;\n",
       "    }\n",
       "\n",
       "    .dataframe tbody tr th {\n",
       "        vertical-align: top;\n",
       "    }\n",
       "\n",
       "    .dataframe thead th {\n",
       "        text-align: right;\n",
       "    }\n",
       "</style>\n",
       "<table border=\"1\" class=\"dataframe\">\n",
       "  <thead>\n",
       "    <tr style=\"text-align: right;\">\n",
       "      <th></th>\n",
       "      <th>time</th>\n",
       "      <th>high</th>\n",
       "      <th>low</th>\n",
       "      <th>open</th>\n",
       "      <th>volumefrom</th>\n",
       "      <th>volumeto</th>\n",
       "      <th>close</th>\n",
       "      <th>conversionType</th>\n",
       "      <th>conversionSymbol</th>\n",
       "    </tr>\n",
       "  </thead>\n",
       "  <tbody>\n",
       "    <tr>\n",
       "      <th>0</th>\n",
       "      <td>2021-11-22</td>\n",
       "      <td>19.87</td>\n",
       "      <td>17.30</td>\n",
       "      <td>18.34</td>\n",
       "      <td>864093.64</td>\n",
       "      <td>16507323.68</td>\n",
       "      <td>19.10</td>\n",
       "      <td>multiply</td>\n",
       "      <td>BTC</td>\n",
       "    </tr>\n",
       "    <tr>\n",
       "      <th>1</th>\n",
       "      <td>2021-11-23</td>\n",
       "      <td>25.21</td>\n",
       "      <td>19.31</td>\n",
       "      <td>19.10</td>\n",
       "      <td>1426622.33</td>\n",
       "      <td>34443559.27</td>\n",
       "      <td>24.14</td>\n",
       "      <td>multiply</td>\n",
       "      <td>BTC</td>\n",
       "    </tr>\n",
       "    <tr>\n",
       "      <th>2</th>\n",
       "      <td>2021-11-24</td>\n",
       "      <td>28.28</td>\n",
       "      <td>23.01</td>\n",
       "      <td>24.14</td>\n",
       "      <td>1586223.68</td>\n",
       "      <td>43233106.01</td>\n",
       "      <td>27.26</td>\n",
       "      <td>multiply</td>\n",
       "      <td>BTC</td>\n",
       "    </tr>\n",
       "    <tr>\n",
       "      <th>3</th>\n",
       "      <td>2021-11-25</td>\n",
       "      <td>29.53</td>\n",
       "      <td>22.91</td>\n",
       "      <td>27.26</td>\n",
       "      <td>1368392.37</td>\n",
       "      <td>32364750.66</td>\n",
       "      <td>23.65</td>\n",
       "      <td>multiply</td>\n",
       "      <td>BTC</td>\n",
       "    </tr>\n",
       "    <tr>\n",
       "      <th>4</th>\n",
       "      <td>2021-11-26</td>\n",
       "      <td>22.99</td>\n",
       "      <td>18.21</td>\n",
       "      <td>23.65</td>\n",
       "      <td>1151018.14</td>\n",
       "      <td>23222897.47</td>\n",
       "      <td>20.18</td>\n",
       "      <td>multiply</td>\n",
       "      <td>BTC</td>\n",
       "    </tr>\n",
       "    <tr>\n",
       "      <th>5</th>\n",
       "      <td>2021-11-27</td>\n",
       "      <td>21.77</td>\n",
       "      <td>18.95</td>\n",
       "      <td>20.18</td>\n",
       "      <td>498343.90</td>\n",
       "      <td>9613736.84</td>\n",
       "      <td>19.29</td>\n",
       "      <td>multiply</td>\n",
       "      <td>BTC</td>\n",
       "    </tr>\n",
       "    <tr>\n",
       "      <th>6</th>\n",
       "      <td>2021-11-28</td>\n",
       "      <td>21.96</td>\n",
       "      <td>18.19</td>\n",
       "      <td>19.29</td>\n",
       "      <td>1093794.96</td>\n",
       "      <td>23145820.78</td>\n",
       "      <td>21.16</td>\n",
       "      <td>multiply</td>\n",
       "      <td>BTC</td>\n",
       "    </tr>\n",
       "    <tr>\n",
       "      <th>7</th>\n",
       "      <td>2021-11-29</td>\n",
       "      <td>22.07</td>\n",
       "      <td>20.61</td>\n",
       "      <td>21.16</td>\n",
       "      <td>113621.59</td>\n",
       "      <td>2372351.07</td>\n",
       "      <td>20.88</td>\n",
       "      <td>multiply</td>\n",
       "      <td>BTC</td>\n",
       "    </tr>\n",
       "  </tbody>\n",
       "</table>\n",
       "</div>"
      ],
      "text/plain": [
       "        time   high    low   open  volumefrom     volumeto  close  \\\n",
       "0 2021-11-22  19.87  17.30  18.34   864093.64  16507323.68  19.10   \n",
       "1 2021-11-23  25.21  19.31  19.10  1426622.33  34443559.27  24.14   \n",
       "2 2021-11-24  28.28  23.01  24.14  1586223.68  43233106.01  27.26   \n",
       "3 2021-11-25  29.53  22.91  27.26  1368392.37  32364750.66  23.65   \n",
       "4 2021-11-26  22.99  18.21  23.65  1151018.14  23222897.47  20.18   \n",
       "5 2021-11-27  21.77  18.95  20.18   498343.90   9613736.84  19.29   \n",
       "6 2021-11-28  21.96  18.19  19.29  1093794.96  23145820.78  21.16   \n",
       "7 2021-11-29  22.07  20.61  21.16   113621.59   2372351.07  20.88   \n",
       "\n",
       "  conversionType conversionSymbol  \n",
       "0       multiply              BTC  \n",
       "1       multiply              BTC  \n",
       "2       multiply              BTC  \n",
       "3       multiply              BTC  \n",
       "4       multiply              BTC  \n",
       "5       multiply              BTC  \n",
       "6       multiply              BTC  \n",
       "7       multiply              BTC  "
      ]
     },
     "execution_count": 346,
     "metadata": {},
     "output_type": "execute_result"
    }
   ],
   "source": [
    "#gmt time zone 7 or 8 hours ahead of me\n",
    "df"
   ]
  },
  {
   "cell_type": "code",
   "execution_count": null,
   "metadata": {},
   "outputs": [],
   "source": []
  }
 ],
 "metadata": {
  "kernelspec": {
   "display_name": "Python [conda env:PythonData] *",
   "language": "python",
   "name": "conda-env-PythonData-py"
  },
  "language_info": {
   "codemirror_mode": {
    "name": "ipython",
    "version": 3
   },
   "file_extension": ".py",
   "mimetype": "text/x-python",
   "name": "python",
   "nbconvert_exporter": "python",
   "pygments_lexer": "ipython3",
   "version": "3.6.10"
  }
 },
 "nbformat": 4,
 "nbformat_minor": 4
}
