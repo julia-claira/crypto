{
 "cells": [
  {
   "cell_type": "code",
   "execution_count": null,
   "metadata": {},
   "outputs": [],
   "source": [
    "1) track daily crypto mentions by specific influencers\n",
    "2) track historical and current crypto trends\n",
    "3) see if there is a corralation between price spikes and twiitter mentions, and if so how many days it is offset"
   ]
  },
  {
   "cell_type": "code",
   "execution_count": 93,
   "metadata": {},
   "outputs": [],
   "source": [
    "# Dependencies and Setup\n",
    "import matplotlib.pyplot as plt\n",
    "import pandas as pd\n",
    "import numpy as np\n",
    "import requests\n",
    "import time\n",
    "from scipy.stats import linregress\n",
    "from datetime import datetime"
   ]
  },
  {
   "cell_type": "code",
   "execution_count": 94,
   "metadata": {},
   "outputs": [],
   "source": [
    "from config1 import consumer_key, consumer_secret, crypto_key\n"
   ]
  },
  {
   "cell_type": "code",
   "execution_count": 5,
   "metadata": {},
   "outputs": [],
   "source": [
    "#old stuff\n",
    "base_url=\"https://api.polygon.io/v2/aggs/ticker/AAPL/range/1/day/2020-06-01/2020-06-17?apiKey=ui4pRrbHr7mNiqyn6tBCURIIGdQjjWEl\"\n",
    "base_url=\"https://api.polygon.io/v3/reference/tickers?apiKey=ui4pRrbHr7mNiqyn6tBCURIIGdQjjWEl\"\n",
    "\n",
    "base_url=\"https://api.polygon.io/v2/aggs/ticker/DASH/prev?adjusted=true&apiKey=ui4pRrbHr7mNiqyn6tBCURIIGdQjjWEl\"\n",
    "\n",
    "base_url=\"http://rest.coinapi.io/v1/exchangerate/ALICE?apikey=54244F72-7D5F-4173-ADBC-B15B53191244\"\n",
    "\n",
    "base_url=\"http://rest.coinapi.io/v1/assets?apikey=54244F72-7D5F-4173-ADBC-B15B53191244\"\n",
    "\n",
    "base_url=\"https://api.polygon.io/v3/reference/tickers?apiKey=ui4pRrbHr7mNiqyn6tBCURIIGdQjjWEl\"\n",
    "\n",
    "base_url='https://api.polygon.io/v1/historic/forex/BTC/USD/2021-10-14?limit=100&apiKey=ui4pRrbHr7mNiqyn6tBCURIIGdQjjWEl'\n",
    "    \n",
    "\n",
    "\n"
   ]
  },
  {
   "cell_type": "code",
   "execution_count": 6,
   "metadata": {},
   "outputs": [],
   "source": [
    "#old stuff\n",
    "c=requests.get(base_url).json()"
   ]
  },
  {
   "cell_type": "code",
   "execution_count": 95,
   "metadata": {},
   "outputs": [],
   "source": [
    "#old stuff\n",
    "#df = pd.DataFrame(c['rates'])"
   ]
  },
  {
   "cell_type": "code",
   "execution_count": 11,
   "metadata": {},
   "outputs": [],
   "source": [
    "from bs4 import BeautifulSoup\n",
    "import tweepy"
   ]
  },
  {
   "cell_type": "code",
   "execution_count": 12,
   "metadata": {},
   "outputs": [],
   "source": [
    "influencers=['Anthony Pompliano', 'Erik Voorhees',\n",
    "'Ty Smith', 'Tone Vays',\n",
    "'CryptoCobain',\n",
    "'Tyler Winklevoss',\n",
    "'Vitalik Buterin',\n",
    "'CryptoWendyO',\n",
    "'StackingUSD',\n",
    "'Girl Gone Crypto',\n",
    "'Euclid and Oaks',\n",
    "'David Gokhshtein',\n",
    "'Hailey Lennon',\n",
    "'Justin Sun',\n",
    "'Ivan on Tech',\n",
    "'Kenn Bosak',\n",
    "'CryptoBrekkie',\n",
    "'Scott Melker',\n",
    "'TheCryptoDog',\n",
    "'BitBoy Crypto',\n",
    "'Dan Held',\n",
    "'PeterMcCormack',\n",
    "'LayahHeilpern',\n",
    "'Coinbound']"
   ]
  },
  {
   "cell_type": "code",
   "execution_count": 98,
   "metadata": {},
   "outputs": [],
   "source": [
    "auth = tweepy.OAuthHandler(consumer_key, consumer_secret)\n",
    "api = tweepy.API(auth)"
   ]
  },
  {
   "cell_type": "code",
   "execution_count": 7,
   "metadata": {},
   "outputs": [
    {
     "name": "stdout",
     "output_type": "stream",
     "text": [
      "success\n"
     ]
    }
   ],
   "source": [
    "try:\n",
    "    redirect_url = auth.get_authorization_url()\n",
    "    print('success')\n",
    "except tweepy.TweepError:\n",
    "    print('Error! Failed to get request token.')"
   ]
  },
  {
   "cell_type": "code",
   "execution_count": 103,
   "metadata": {},
   "outputs": [],
   "source": [
    "tweets = api.user_timeline(screen_name=\"ClairaJulia\", \n",
    "                           # 200 is the maximum allowed count\n",
    "                           count=200,\n",
    "                           include_rts = False,\n",
    "                           # Necessary to keep full_text \n",
    "                           # otherwise only the first 140 words are extracted\n",
    "                           tweet_mode = 'extended'\n",
    "                           )"
   ]
  },
  {
   "cell_type": "code",
   "execution_count": 104,
   "metadata": {},
   "outputs": [
    {
     "data": {
      "text/plain": [
       "[Status(_api=<tweepy.api.API object at 0x7fb4b2416320>, _json={'created_at': 'Fri Dec 03 16:59:19 +0000 2021', 'id': 1466814315374137347, 'id_str': '1466814315374137347', 'full_text': 'testing', 'truncated': False, 'display_text_range': [0, 7], 'entities': {'hashtags': [], 'symbols': [], 'user_mentions': [], 'urls': []}, 'source': '<a href=\"https://mobile.twitter.com\" rel=\"nofollow\">Twitter Web App</a>', 'in_reply_to_status_id': None, 'in_reply_to_status_id_str': None, 'in_reply_to_user_id': None, 'in_reply_to_user_id_str': None, 'in_reply_to_screen_name': None, 'user': {'id': 1445246645889748996, 'id_str': '1445246645889748996', 'name': 'Julia Claira', 'screen_name': 'ClairaJulia', 'location': '97222', 'description': '', 'url': 'https://t.co/tWv4gJOmAF', 'entities': {'url': {'urls': [{'url': 'https://t.co/tWv4gJOmAF', 'expanded_url': 'http://www.julianck.com', 'display_url': 'julianck.com', 'indices': [0, 23]}]}, 'description': {'urls': []}}, 'protected': False, 'followers_count': 0, 'friends_count': 2, 'listed_count': 0, 'created_at': 'Tue Oct 05 04:38:20 +0000 2021', 'favourites_count': 1, 'utc_offset': None, 'time_zone': None, 'geo_enabled': False, 'verified': False, 'statuses_count': 1, 'lang': None, 'contributors_enabled': False, 'is_translator': False, 'is_translation_enabled': False, 'profile_background_color': 'F5F8FA', 'profile_background_image_url': None, 'profile_background_image_url_https': None, 'profile_background_tile': False, 'profile_image_url': 'http://pbs.twimg.com/profile_images/1462854100261892096/GvYc6edA_normal.jpg', 'profile_image_url_https': 'https://pbs.twimg.com/profile_images/1462854100261892096/GvYc6edA_normal.jpg', 'profile_link_color': '1DA1F2', 'profile_sidebar_border_color': 'C0DEED', 'profile_sidebar_fill_color': 'DDEEF6', 'profile_text_color': '333333', 'profile_use_background_image': True, 'has_extended_profile': True, 'default_profile': True, 'default_profile_image': False, 'following': None, 'follow_request_sent': None, 'notifications': None, 'translator_type': 'none', 'withheld_in_countries': []}, 'geo': None, 'coordinates': None, 'place': None, 'contributors': None, 'is_quote_status': False, 'retweet_count': 0, 'favorite_count': 0, 'favorited': False, 'retweeted': False, 'lang': 'en'}, created_at=datetime.datetime(2021, 12, 3, 16, 59, 19, tzinfo=datetime.timezone.utc), id=1466814315374137347, id_str='1466814315374137347', full_text='testing', truncated=False, display_text_range=[0, 7], entities={'hashtags': [], 'symbols': [], 'user_mentions': [], 'urls': []}, source='Twitter Web App', source_url='https://mobile.twitter.com', in_reply_to_status_id=None, in_reply_to_status_id_str=None, in_reply_to_user_id=None, in_reply_to_user_id_str=None, in_reply_to_screen_name=None, author=User(_api=<tweepy.api.API object at 0x7fb4b2416320>, _json={'id': 1445246645889748996, 'id_str': '1445246645889748996', 'name': 'Julia Claira', 'screen_name': 'ClairaJulia', 'location': '97222', 'description': '', 'url': 'https://t.co/tWv4gJOmAF', 'entities': {'url': {'urls': [{'url': 'https://t.co/tWv4gJOmAF', 'expanded_url': 'http://www.julianck.com', 'display_url': 'julianck.com', 'indices': [0, 23]}]}, 'description': {'urls': []}}, 'protected': False, 'followers_count': 0, 'friends_count': 2, 'listed_count': 0, 'created_at': 'Tue Oct 05 04:38:20 +0000 2021', 'favourites_count': 1, 'utc_offset': None, 'time_zone': None, 'geo_enabled': False, 'verified': False, 'statuses_count': 1, 'lang': None, 'contributors_enabled': False, 'is_translator': False, 'is_translation_enabled': False, 'profile_background_color': 'F5F8FA', 'profile_background_image_url': None, 'profile_background_image_url_https': None, 'profile_background_tile': False, 'profile_image_url': 'http://pbs.twimg.com/profile_images/1462854100261892096/GvYc6edA_normal.jpg', 'profile_image_url_https': 'https://pbs.twimg.com/profile_images/1462854100261892096/GvYc6edA_normal.jpg', 'profile_link_color': '1DA1F2', 'profile_sidebar_border_color': 'C0DEED', 'profile_sidebar_fill_color': 'DDEEF6', 'profile_text_color': '333333', 'profile_use_background_image': True, 'has_extended_profile': True, 'default_profile': True, 'default_profile_image': False, 'following': None, 'follow_request_sent': None, 'notifications': None, 'translator_type': 'none', 'withheld_in_countries': []}, id=1445246645889748996, id_str='1445246645889748996', name='Julia Claira', screen_name='ClairaJulia', location='97222', description='', url='https://t.co/tWv4gJOmAF', entities={'url': {'urls': [{'url': 'https://t.co/tWv4gJOmAF', 'expanded_url': 'http://www.julianck.com', 'display_url': 'julianck.com', 'indices': [0, 23]}]}, 'description': {'urls': []}}, protected=False, followers_count=0, friends_count=2, listed_count=0, created_at=datetime.datetime(2021, 10, 5, 4, 38, 20, tzinfo=datetime.timezone.utc), favourites_count=1, utc_offset=None, time_zone=None, geo_enabled=False, verified=False, statuses_count=1, lang=None, contributors_enabled=False, is_translator=False, is_translation_enabled=False, profile_background_color='F5F8FA', profile_background_image_url=None, profile_background_image_url_https=None, profile_background_tile=False, profile_image_url='http://pbs.twimg.com/profile_images/1462854100261892096/GvYc6edA_normal.jpg', profile_image_url_https='https://pbs.twimg.com/profile_images/1462854100261892096/GvYc6edA_normal.jpg', profile_link_color='1DA1F2', profile_sidebar_border_color='C0DEED', profile_sidebar_fill_color='DDEEF6', profile_text_color='333333', profile_use_background_image=True, has_extended_profile=True, default_profile=True, default_profile_image=False, following=False, follow_request_sent=None, notifications=None, translator_type='none', withheld_in_countries=[]), user=User(_api=<tweepy.api.API object at 0x7fb4b2416320>, _json={'id': 1445246645889748996, 'id_str': '1445246645889748996', 'name': 'Julia Claira', 'screen_name': 'ClairaJulia', 'location': '97222', 'description': '', 'url': 'https://t.co/tWv4gJOmAF', 'entities': {'url': {'urls': [{'url': 'https://t.co/tWv4gJOmAF', 'expanded_url': 'http://www.julianck.com', 'display_url': 'julianck.com', 'indices': [0, 23]}]}, 'description': {'urls': []}}, 'protected': False, 'followers_count': 0, 'friends_count': 2, 'listed_count': 0, 'created_at': 'Tue Oct 05 04:38:20 +0000 2021', 'favourites_count': 1, 'utc_offset': None, 'time_zone': None, 'geo_enabled': False, 'verified': False, 'statuses_count': 1, 'lang': None, 'contributors_enabled': False, 'is_translator': False, 'is_translation_enabled': False, 'profile_background_color': 'F5F8FA', 'profile_background_image_url': None, 'profile_background_image_url_https': None, 'profile_background_tile': False, 'profile_image_url': 'http://pbs.twimg.com/profile_images/1462854100261892096/GvYc6edA_normal.jpg', 'profile_image_url_https': 'https://pbs.twimg.com/profile_images/1462854100261892096/GvYc6edA_normal.jpg', 'profile_link_color': '1DA1F2', 'profile_sidebar_border_color': 'C0DEED', 'profile_sidebar_fill_color': 'DDEEF6', 'profile_text_color': '333333', 'profile_use_background_image': True, 'has_extended_profile': True, 'default_profile': True, 'default_profile_image': False, 'following': None, 'follow_request_sent': None, 'notifications': None, 'translator_type': 'none', 'withheld_in_countries': []}, id=1445246645889748996, id_str='1445246645889748996', name='Julia Claira', screen_name='ClairaJulia', location='97222', description='', url='https://t.co/tWv4gJOmAF', entities={'url': {'urls': [{'url': 'https://t.co/tWv4gJOmAF', 'expanded_url': 'http://www.julianck.com', 'display_url': 'julianck.com', 'indices': [0, 23]}]}, 'description': {'urls': []}}, protected=False, followers_count=0, friends_count=2, listed_count=0, created_at=datetime.datetime(2021, 10, 5, 4, 38, 20, tzinfo=datetime.timezone.utc), favourites_count=1, utc_offset=None, time_zone=None, geo_enabled=False, verified=False, statuses_count=1, lang=None, contributors_enabled=False, is_translator=False, is_translation_enabled=False, profile_background_color='F5F8FA', profile_background_image_url=None, profile_background_image_url_https=None, profile_background_tile=False, profile_image_url='http://pbs.twimg.com/profile_images/1462854100261892096/GvYc6edA_normal.jpg', profile_image_url_https='https://pbs.twimg.com/profile_images/1462854100261892096/GvYc6edA_normal.jpg', profile_link_color='1DA1F2', profile_sidebar_border_color='C0DEED', profile_sidebar_fill_color='DDEEF6', profile_text_color='333333', profile_use_background_image=True, has_extended_profile=True, default_profile=True, default_profile_image=False, following=False, follow_request_sent=None, notifications=None, translator_type='none', withheld_in_countries=[]), geo=None, coordinates=None, place=None, contributors=None, is_quote_status=False, retweet_count=0, favorite_count=0, favorited=False, retweeted=False, lang='en')]"
      ]
     },
     "execution_count": 104,
     "metadata": {},
     "output_type": "execute_result"
    }
   ],
   "source": [
    "tweets"
   ]
  },
  {
   "cell_type": "code",
   "execution_count": 105,
   "metadata": {},
   "outputs": [
    {
     "name": "stdout",
     "output_type": "stream",
     "text": [
      "ID: 1466814315374137347\n",
      "2021-12-03 16:59:19+00:00\n",
      "testing\n",
      "\n",
      "\n"
     ]
    }
   ],
   "source": [
    "for info in tweets[:5]:\n",
    "     print(\"ID: {}\".format(info.id))\n",
    "     print(info.created_at)\n",
    "     print(info.full_text)\n",
    "     print(\"\\n\")"
   ]
  },
  {
   "cell_type": "code",
   "execution_count": 47,
   "metadata": {},
   "outputs": [
    {
     "name": "stdout",
     "output_type": "stream",
     "text": [
      "b'[{\"id\":\"ALICE\",\"currency\":\"ALICE\",\"symbol\":\"ALICE\",\"name\":\"Alice Finance\",\"logo_url\":\"\",\"status\":\"active\",\"platform_currency\":\"ETH\",\"price\":\"21.15898164\",\"price_date\":\"2021-12-03T00:00:00Z\",\"price_timestamp\":\"2021-12-03T05:42:00Z\",\"market_cap_dominance\":\"0.0000\",\"num_exchanges\":\"41\",\"num_pairs\":\"56\",\"num_pairs_unmapped\":\"0\",\"first_candle\":\"2021-02-13T00:00:00Z\",\"first_trade\":\"2021-02-13T00:00:00Z\",\"first_order_book\":\"2021-03-15T00:00:00Z\",\"first_priced_at\":\"2021-02-15T15:13:11.463416Z\",\"rank\":\"1938\",\"rank_delta\":\"-20\",\"high\":\"27.48218193\",\"high_timestamp\":\"2021-11-24T00:00:00Z\",\"1d\":{\"volume\":\"158661667.17\",\"price_change\":\"-0.35809620\",\"price_change_pct\":\"-0.0166\",\"volume_change\":\"-45251810.96\",\"volume_change_pct\":\"-0.2219\"},\"30d\":{\"volume\":\"3459843629.99\",\"price_change\":\"6.89896338\",\"price_change_pct\":\"0.4838\",\"volume_change\":\"2304880195.35\",\"volume_change_pct\":\"1.9956\"}}]\\n'\n"
     ]
    }
   ],
   "source": [
    "import urllib.request\n",
    "url = \"https://api.nomics.com/v1/currencies/ticker?key=\" + crypto_key + \"&ids=ALICE&interval=1d,30d&convert=USD&per-page=200&page=1\"\n",
    "print(urllib.request.urlopen(url).read())\n"
   ]
  },
  {
   "cell_type": "code",
   "execution_count": null,
   "metadata": {},
   "outputs": [],
   "source": []
  },
  {
   "cell_type": "code",
   "execution_count": 109,
   "metadata": {},
   "outputs": [],
   "source": [
    "url=\"https://min-api.cryptocompare.com/data/v2/histoday?fsym=KMD&tsym=USD&limit=7&api_key=0aef86b70e6092ab15386d2bc845370e8836a810f1b65ece64a09b5e48d6c9f1\"\n",
    "\n"
   ]
  },
  {
   "cell_type": "code",
   "execution_count": 110,
   "metadata": {},
   "outputs": [],
   "source": [
    "my_data=requests.get(url).json()"
   ]
  },
  {
   "cell_type": "code",
   "execution_count": 111,
   "metadata": {},
   "outputs": [
    {
     "data": {
      "text/plain": [
       "{'Response': 'Success',\n",
       " 'Message': '',\n",
       " 'HasWarning': False,\n",
       " 'Type': 100,\n",
       " 'RateLimit': {},\n",
       " 'Data': {'Aggregated': False,\n",
       "  'TimeFrom': 1637884800,\n",
       "  'TimeTo': 1638489600,\n",
       "  'Data': [{'time': 1637884800,\n",
       "    'high': 1.15,\n",
       "    'low': 0.8974,\n",
       "    'open': 1.004,\n",
       "    'volumefrom': 907573.43,\n",
       "    'volumeto': 874301.48,\n",
       "    'close': 0.9633,\n",
       "    'conversionType': 'multiply',\n",
       "    'conversionSymbol': 'ETH'},\n",
       "   {'time': 1637971200,\n",
       "    'high': 1.062,\n",
       "    'low': 0.9283,\n",
       "    'open': 0.9633,\n",
       "    'volumefrom': 534906.38,\n",
       "    'volumeto': 546125.88,\n",
       "    'close': 1.021,\n",
       "    'conversionType': 'multiply',\n",
       "    'conversionSymbol': 'ETH'},\n",
       "   {'time': 1638057600,\n",
       "    'high': 1.076,\n",
       "    'low': 0.949,\n",
       "    'open': 1.021,\n",
       "    'volumefrom': 328691.49,\n",
       "    'volumeto': 315453.62,\n",
       "    'close': 0.9597,\n",
       "    'conversionType': 'multiply',\n",
       "    'conversionSymbol': 'ETH'},\n",
       "   {'time': 1638144000,\n",
       "    'high': 1.013,\n",
       "    'low': 0.9613,\n",
       "    'open': 0.9597,\n",
       "    'volumefrom': 891533.35,\n",
       "    'volumeto': 866962.61,\n",
       "    'close': 0.9724,\n",
       "    'conversionType': 'multiply',\n",
       "    'conversionSymbol': 'ETH'},\n",
       "   {'time': 1638230400,\n",
       "    'high': 1.013,\n",
       "    'low': 0.9457,\n",
       "    'open': 0.9724,\n",
       "    'volumefrom': 328410.92,\n",
       "    'volumeto': 312849.91,\n",
       "    'close': 0.9526,\n",
       "    'conversionType': 'multiply',\n",
       "    'conversionSymbol': 'ETH'},\n",
       "   {'time': 1638316800,\n",
       "    'high': 1.004,\n",
       "    'low': 0.9194,\n",
       "    'open': 0.9526,\n",
       "    'volumefrom': 423296.04,\n",
       "    'volumeto': 416553.03,\n",
       "    'close': 0.9841,\n",
       "    'conversionType': 'multiply',\n",
       "    'conversionSymbol': 'ETH'},\n",
       "   {'time': 1638403200,\n",
       "    'high': 1.66,\n",
       "    'low': 0.9341,\n",
       "    'open': 0.9841,\n",
       "    'volumefrom': 2050789.89,\n",
       "    'volumeto': 2348058.61,\n",
       "    'close': 1.145,\n",
       "    'conversionType': 'multiply',\n",
       "    'conversionSymbol': 'ETH'},\n",
       "   {'time': 1638489600,\n",
       "    'high': 1.277,\n",
       "    'low': 1.03,\n",
       "    'open': 1.142,\n",
       "    'volumefrom': 6392673.49,\n",
       "    'volumeto': 7074621.82,\n",
       "    'close': 1.107,\n",
       "    'conversionType': 'multiply',\n",
       "    'conversionSymbol': 'BTC'}]}}"
      ]
     },
     "execution_count": 111,
     "metadata": {},
     "output_type": "execute_result"
    }
   ],
   "source": [
    "my_data"
   ]
  },
  {
   "cell_type": "code",
   "execution_count": null,
   "metadata": {},
   "outputs": [],
   "source": []
  },
  {
   "cell_type": "code",
   "execution_count": null,
   "metadata": {},
   "outputs": [],
   "source": []
  },
  {
   "cell_type": "code",
   "execution_count": 112,
   "metadata": {},
   "outputs": [],
   "source": [
    "df=pd.DataFrame(my_data['Data']['Data'])"
   ]
  },
  {
   "cell_type": "code",
   "execution_count": 113,
   "metadata": {},
   "outputs": [
    {
     "data": {
      "text/plain": [
       "time                  int64\n",
       "high                float64\n",
       "low                 float64\n",
       "open                float64\n",
       "volumefrom          float64\n",
       "volumeto            float64\n",
       "close               float64\n",
       "conversionType       object\n",
       "conversionSymbol     object\n",
       "dtype: object"
      ]
     },
     "execution_count": 113,
     "metadata": {},
     "output_type": "execute_result"
    }
   ],
   "source": [
    "df.dtypes"
   ]
  },
  {
   "cell_type": "code",
   "execution_count": 114,
   "metadata": {},
   "outputs": [
    {
     "data": {
      "text/plain": [
       "[<matplotlib.lines.Line2D at 0x7fb4b1e61a58>]"
      ]
     },
     "execution_count": 114,
     "metadata": {},
     "output_type": "execute_result"
    },
    {
     "data": {
      "image/png": "[encoded data removed]",
      "text/plain": [
       "<Figure size 432x288 with 1 Axes>"
      ]
     },
     "metadata": {
      "needs_background": "light"
     },
     "output_type": "display_data"
    }
   ],
   "source": [
    "plt.plot(pd.to_datetime(df['time'], unit='s'),df.close)"
   ]
  },
  {
   "cell_type": "code",
   "execution_count": null,
   "metadata": {},
   "outputs": [],
   "source": []
  },
  {
   "cell_type": "markdown",
   "metadata": {},
   "source": [
    "#### my_data"
   ]
  },
  {
   "cell_type": "code",
   "execution_count": 120,
   "metadata": {},
   "outputs": [],
   "source": [
    "df['time']=pd.to_datetime(df['time'], unit='s')"
   ]
  },
  {
   "cell_type": "code",
   "execution_count": 121,
   "metadata": {},
   "outputs": [
    {
     "data": {
      "text/html": [
       "<div>\n",
       "<style scoped>\n",
       "    .dataframe tbody tr th:only-of-type {\n",
       "        vertical-align: middle;\n",
       "    }\n",
       "\n",
       "    .dataframe tbody tr th {\n",
       "        vertical-align: top;\n",
       "    }\n",
       "\n",
       "    .dataframe thead th {\n",
       "        text-align: right;\n",
       "    }\n",
       "</style>\n",
       "<table border=\"1\" class=\"dataframe\">\n",
       "  <thead>\n",
       "    <tr style=\"text-align: right;\">\n",
       "      <th></th>\n",
       "      <th>time</th>\n",
       "      <th>high</th>\n",
       "      <th>low</th>\n",
       "      <th>open</th>\n",
       "      <th>volumefrom</th>\n",
       "      <th>volumeto</th>\n",
       "      <th>close</th>\n",
       "      <th>conversionType</th>\n",
       "      <th>conversionSymbol</th>\n",
       "    </tr>\n",
       "  </thead>\n",
       "  <tbody>\n",
       "    <tr>\n",
       "      <th>0</th>\n",
       "      <td>2021-11-26</td>\n",
       "      <td>1.150</td>\n",
       "      <td>0.8974</td>\n",
       "      <td>1.0040</td>\n",
       "      <td>907573.43</td>\n",
       "      <td>874301.48</td>\n",
       "      <td>0.9633</td>\n",
       "      <td>multiply</td>\n",
       "      <td>ETH</td>\n",
       "    </tr>\n",
       "    <tr>\n",
       "      <th>1</th>\n",
       "      <td>2021-11-27</td>\n",
       "      <td>1.062</td>\n",
       "      <td>0.9283</td>\n",
       "      <td>0.9633</td>\n",
       "      <td>534906.38</td>\n",
       "      <td>546125.88</td>\n",
       "      <td>1.0210</td>\n",
       "      <td>multiply</td>\n",
       "      <td>ETH</td>\n",
       "    </tr>\n",
       "    <tr>\n",
       "      <th>2</th>\n",
       "      <td>2021-11-28</td>\n",
       "      <td>1.076</td>\n",
       "      <td>0.9490</td>\n",
       "      <td>1.0210</td>\n",
       "      <td>328691.49</td>\n",
       "      <td>315453.62</td>\n",
       "      <td>0.9597</td>\n",
       "      <td>multiply</td>\n",
       "      <td>ETH</td>\n",
       "    </tr>\n",
       "    <tr>\n",
       "      <th>3</th>\n",
       "      <td>2021-11-29</td>\n",
       "      <td>1.013</td>\n",
       "      <td>0.9613</td>\n",
       "      <td>0.9597</td>\n",
       "      <td>891533.35</td>\n",
       "      <td>866962.61</td>\n",
       "      <td>0.9724</td>\n",
       "      <td>multiply</td>\n",
       "      <td>ETH</td>\n",
       "    </tr>\n",
       "    <tr>\n",
       "      <th>4</th>\n",
       "      <td>2021-11-30</td>\n",
       "      <td>1.013</td>\n",
       "      <td>0.9457</td>\n",
       "      <td>0.9724</td>\n",
       "      <td>328410.92</td>\n",
       "      <td>312849.91</td>\n",
       "      <td>0.9526</td>\n",
       "      <td>multiply</td>\n",
       "      <td>ETH</td>\n",
       "    </tr>\n",
       "    <tr>\n",
       "      <th>5</th>\n",
       "      <td>2021-12-01</td>\n",
       "      <td>1.004</td>\n",
       "      <td>0.9194</td>\n",
       "      <td>0.9526</td>\n",
       "      <td>423296.04</td>\n",
       "      <td>416553.03</td>\n",
       "      <td>0.9841</td>\n",
       "      <td>multiply</td>\n",
       "      <td>ETH</td>\n",
       "    </tr>\n",
       "    <tr>\n",
       "      <th>6</th>\n",
       "      <td>2021-12-02</td>\n",
       "      <td>1.660</td>\n",
       "      <td>0.9341</td>\n",
       "      <td>0.9841</td>\n",
       "      <td>2050789.89</td>\n",
       "      <td>2348058.61</td>\n",
       "      <td>1.1450</td>\n",
       "      <td>multiply</td>\n",
       "      <td>ETH</td>\n",
       "    </tr>\n",
       "    <tr>\n",
       "      <th>7</th>\n",
       "      <td>2021-12-03</td>\n",
       "      <td>1.277</td>\n",
       "      <td>1.0300</td>\n",
       "      <td>1.1420</td>\n",
       "      <td>6392673.49</td>\n",
       "      <td>7074621.82</td>\n",
       "      <td>1.1070</td>\n",
       "      <td>multiply</td>\n",
       "      <td>BTC</td>\n",
       "    </tr>\n",
       "  </tbody>\n",
       "</table>\n",
       "</div>"
      ],
      "text/plain": [
       "        time   high     low    open  volumefrom    volumeto   close  \\\n",
       "0 2021-11-26  1.150  0.8974  1.0040   907573.43   874301.48  0.9633   \n",
       "1 2021-11-27  1.062  0.9283  0.9633   534906.38   546125.88  1.0210   \n",
       "2 2021-11-28  1.076  0.9490  1.0210   328691.49   315453.62  0.9597   \n",
       "3 2021-11-29  1.013  0.9613  0.9597   891533.35   866962.61  0.9724   \n",
       "4 2021-11-30  1.013  0.9457  0.9724   328410.92   312849.91  0.9526   \n",
       "5 2021-12-01  1.004  0.9194  0.9526   423296.04   416553.03  0.9841   \n",
       "6 2021-12-02  1.660  0.9341  0.9841  2050789.89  2348058.61  1.1450   \n",
       "7 2021-12-03  1.277  1.0300  1.1420  6392673.49  7074621.82  1.1070   \n",
       "\n",
       "  conversionType conversionSymbol  \n",
       "0       multiply              ETH  \n",
       "1       multiply              ETH  \n",
       "2       multiply              ETH  \n",
       "3       multiply              ETH  \n",
       "4       multiply              ETH  \n",
       "5       multiply              ETH  \n",
       "6       multiply              ETH  \n",
       "7       multiply              BTC  "
      ]
     },
     "execution_count": 121,
     "metadata": {},
     "output_type": "execute_result"
    }
   ],
   "source": [
    "#gmt time zone 7 or 8 hours ahead of me\n",
    "df"
   ]
  },
  {
   "cell_type": "code",
   "execution_count": null,
   "metadata": {},
   "outputs": [],
   "source": []
  },
  {
   "cell_type": "code",
   "execution_count": null,
   "metadata": {},
   "outputs": [],
   "source": []
  }
 ],
 "metadata": {
  "kernelspec": {
   "display_name": "Python [conda env:PythonData] *",
   "language": "python",
   "name": "conda-env-PythonData-py"
  },
  "language_info": {
   "codemirror_mode": {
    "name": "ipython",
    "version": 3
   },
   "file_extension": ".py",
   "mimetype": "text/x-python",
   "name": "python",
   "nbconvert_exporter": "python",
   "pygments_lexer": "ipython3",
   "version": "3.6.10"
  }
 },
 "nbformat": 4,
 "nbformat_minor": 4
}
