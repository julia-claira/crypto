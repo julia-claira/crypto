{
 "cells": [
  {
   "cell_type": "code",
   "execution_count": 80,
   "metadata": {},
   "outputs": [],
   "source": [
    "import numpy as np\n",
    "import pandas as pd\n",
    "import matplotlib.pyplot as plt\n",
    "import pandas_datareader as web\n",
    "import datetime as dt\n",
    "\n",
    "from sklearn.preprocessing import MinMaxScaler\n",
    "from tensorflow.keras.layers import Dense,Dropout, LSTM\n",
    "from tensorflow.keras.models import Sequential"
   ]
  },
  {
   "cell_type": "code",
   "execution_count": 308,
   "metadata": {},
   "outputs": [],
   "source": [
    "crypto_currency=\"BTC\"\n",
    "against_currency=\"USD\""
   ]
  },
  {
   "cell_type": "code",
   "execution_count": 309,
   "metadata": {},
   "outputs": [],
   "source": [
    "start=dt.datetime(2021,4,4)\n",
    "end=dt.datetime.now()"
   ]
  },
  {
   "cell_type": "code",
   "execution_count": 310,
   "metadata": {},
   "outputs": [],
   "source": [
    "data = web.DataReader(f'{crypto_currency}-{against_currency}','yahoo',start,end)"
   ]
  },
  {
   "cell_type": "code",
   "execution_count": 311,
   "metadata": {},
   "outputs": [
    {
     "data": {
      "text/html": [
       "<div>\n",
       "<style scoped>\n",
       "    .dataframe tbody tr th:only-of-type {\n",
       "        vertical-align: middle;\n",
       "    }\n",
       "\n",
       "    .dataframe tbody tr th {\n",
       "        vertical-align: top;\n",
       "    }\n",
       "\n",
       "    .dataframe thead th {\n",
       "        text-align: right;\n",
       "    }\n",
       "</style>\n",
       "<table border=\"1\" class=\"dataframe\">\n",
       "  <thead>\n",
       "    <tr style=\"text-align: right;\">\n",
       "      <th></th>\n",
       "      <th>High</th>\n",
       "      <th>Low</th>\n",
       "      <th>Open</th>\n",
       "      <th>Close</th>\n",
       "      <th>Volume</th>\n",
       "      <th>Adj Close</th>\n",
       "    </tr>\n",
       "    <tr>\n",
       "      <th>Date</th>\n",
       "      <th></th>\n",
       "      <th></th>\n",
       "      <th></th>\n",
       "      <th></th>\n",
       "      <th></th>\n",
       "      <th></th>\n",
       "    </tr>\n",
       "  </thead>\n",
       "  <tbody>\n",
       "    <tr>\n",
       "      <th>2021-04-04</th>\n",
       "      <td>58913.746094</td>\n",
       "      <td>57168.675781</td>\n",
       "      <td>57604.839844</td>\n",
       "      <td>58758.554688</td>\n",
       "      <td>50749662970</td>\n",
       "      <td>58758.554688</td>\n",
       "    </tr>\n",
       "    <tr>\n",
       "      <th>2021-04-05</th>\n",
       "      <td>59891.296875</td>\n",
       "      <td>57694.824219</td>\n",
       "      <td>58760.875000</td>\n",
       "      <td>59057.878906</td>\n",
       "      <td>60706272115</td>\n",
       "      <td>59057.878906</td>\n",
       "    </tr>\n",
       "    <tr>\n",
       "      <th>2021-04-06</th>\n",
       "      <td>59479.578125</td>\n",
       "      <td>57646.808594</td>\n",
       "      <td>59171.933594</td>\n",
       "      <td>58192.359375</td>\n",
       "      <td>66058027988</td>\n",
       "      <td>58192.359375</td>\n",
       "    </tr>\n",
       "    <tr>\n",
       "      <th>2021-04-07</th>\n",
       "      <td>58731.144531</td>\n",
       "      <td>55604.023438</td>\n",
       "      <td>58186.507812</td>\n",
       "      <td>56048.937500</td>\n",
       "      <td>75645303584</td>\n",
       "      <td>56048.937500</td>\n",
       "    </tr>\n",
       "    <tr>\n",
       "      <th>2021-04-08</th>\n",
       "      <td>58338.738281</td>\n",
       "      <td>55879.085938</td>\n",
       "      <td>56099.914062</td>\n",
       "      <td>58323.953125</td>\n",
       "      <td>53053855641</td>\n",
       "      <td>58323.953125</td>\n",
       "    </tr>\n",
       "    <tr>\n",
       "      <th>...</th>\n",
       "      <td>...</td>\n",
       "      <td>...</td>\n",
       "      <td>...</td>\n",
       "      <td>...</td>\n",
       "      <td>...</td>\n",
       "      <td>...</td>\n",
       "    </tr>\n",
       "    <tr>\n",
       "      <th>2021-12-02</th>\n",
       "      <td>57349.234375</td>\n",
       "      <td>55895.132812</td>\n",
       "      <td>57217.371094</td>\n",
       "      <td>56477.816406</td>\n",
       "      <td>32379968686</td>\n",
       "      <td>56477.816406</td>\n",
       "    </tr>\n",
       "    <tr>\n",
       "      <th>2021-12-03</th>\n",
       "      <td>57482.167969</td>\n",
       "      <td>52496.585938</td>\n",
       "      <td>56509.164062</td>\n",
       "      <td>53598.246094</td>\n",
       "      <td>39789134215</td>\n",
       "      <td>53598.246094</td>\n",
       "    </tr>\n",
       "    <tr>\n",
       "      <th>2021-12-04</th>\n",
       "      <td>53904.679688</td>\n",
       "      <td>42874.617188</td>\n",
       "      <td>53727.878906</td>\n",
       "      <td>49200.703125</td>\n",
       "      <td>61385677469</td>\n",
       "      <td>49200.703125</td>\n",
       "    </tr>\n",
       "    <tr>\n",
       "      <th>2021-12-05</th>\n",
       "      <td>49768.148438</td>\n",
       "      <td>47857.496094</td>\n",
       "      <td>49201.519531</td>\n",
       "      <td>49368.847656</td>\n",
       "      <td>37198201161</td>\n",
       "      <td>49368.847656</td>\n",
       "    </tr>\n",
       "    <tr>\n",
       "      <th>2021-12-06</th>\n",
       "      <td>49323.171875</td>\n",
       "      <td>48436.500000</td>\n",
       "      <td>49323.171875</td>\n",
       "      <td>48810.859375</td>\n",
       "      <td>34466164736</td>\n",
       "      <td>48810.859375</td>\n",
       "    </tr>\n",
       "  </tbody>\n",
       "</table>\n",
       "<p>247 rows × 6 columns</p>\n",
       "</div>"
      ],
      "text/plain": [
       "                    High           Low          Open         Close  \\\n",
       "Date                                                                 \n",
       "2021-04-04  58913.746094  57168.675781  57604.839844  58758.554688   \n",
       "2021-04-05  59891.296875  57694.824219  58760.875000  59057.878906   \n",
       "2021-04-06  59479.578125  57646.808594  59171.933594  58192.359375   \n",
       "2021-04-07  58731.144531  55604.023438  58186.507812  56048.937500   \n",
       "2021-04-08  58338.738281  55879.085938  56099.914062  58323.953125   \n",
       "...                  ...           ...           ...           ...   \n",
       "2021-12-02  57349.234375  55895.132812  57217.371094  56477.816406   \n",
       "2021-12-03  57482.167969  52496.585938  56509.164062  53598.246094   \n",
       "2021-12-04  53904.679688  42874.617188  53727.878906  49200.703125   \n",
       "2021-12-05  49768.148438  47857.496094  49201.519531  49368.847656   \n",
       "2021-12-06  49323.171875  48436.500000  49323.171875  48810.859375   \n",
       "\n",
       "                 Volume     Adj Close  \n",
       "Date                                   \n",
       "2021-04-04  50749662970  58758.554688  \n",
       "2021-04-05  60706272115  59057.878906  \n",
       "2021-04-06  66058027988  58192.359375  \n",
       "2021-04-07  75645303584  56048.937500  \n",
       "2021-04-08  53053855641  58323.953125  \n",
       "...                 ...           ...  \n",
       "2021-12-02  32379968686  56477.816406  \n",
       "2021-12-03  39789134215  53598.246094  \n",
       "2021-12-04  61385677469  49200.703125  \n",
       "2021-12-05  37198201161  49368.847656  \n",
       "2021-12-06  34466164736  48810.859375  \n",
       "\n",
       "[247 rows x 6 columns]"
      ]
     },
     "execution_count": 311,
     "metadata": {},
     "output_type": "execute_result"
    }
   ],
   "source": [
    "data"
   ]
  },
  {
   "cell_type": "code",
   "execution_count": 213,
   "metadata": {},
   "outputs": [],
   "source": [
    "scaler = MinMaxScaler(feature_range=(0,1))"
   ]
  },
  {
   "cell_type": "code",
   "execution_count": 181,
   "metadata": {},
   "outputs": [],
   "source": [
    "scaled_data = scaler.fit_transform(data['Close'].values.reshape(-1,1))"
   ]
  },
  {
   "cell_type": "code",
   "execution_count": 92,
   "metadata": {},
   "outputs": [
    {
     "data": {
      "text/plain": [
       "array([[0.76672684],\n",
       "       [0.77465396],\n",
       "       [0.75173205],\n",
       "       [0.69496692],\n",
       "       [0.7552171 ],\n",
       "       [0.75312626],\n",
       "       [0.79412869],\n",
       "       [0.80503272],\n",
       "       [0.79678282],\n",
       "       [0.89238806],\n",
       "       [0.8819599 ],\n",
       "       [0.8873709 ],\n",
       "       [0.84125737],\n",
       "       [0.81771445],\n",
       "       [0.69939617],\n",
       "       [0.6863685 ],\n",
       "       [0.70619837],\n",
       "       [0.638217  ],\n",
       "       [0.58144142],\n",
       "       [0.56373405],\n",
       "       [0.53611753],\n",
       "       [0.50839964],\n",
       "       [0.64128018],\n",
       "       [0.66806453],\n",
       "       [0.66254501],\n",
       "       [0.62892183],\n",
       "       [0.74002152],\n",
       "       [0.74208392],\n",
       "       [0.71038399],\n",
       "       [0.72545874],\n",
       "       [0.6230539 ],\n",
       "       [0.73138348],\n",
       "       [0.70417198],\n",
       "       [0.72959305],\n",
       "       [0.76792449],\n",
       "       [0.75279025],\n",
       "       [0.68995783],\n",
       "       [0.71233042],\n",
       "       [0.51227367],\n",
       "       [0.52725418],\n",
       "       [0.53160656],\n",
       "       [0.4489691 ],\n",
       "       [0.44091472],\n",
       "       [0.36362164],\n",
       "       [0.34698715],\n",
       "       [0.19055066],\n",
       "       [0.29066583],\n",
       "       [0.19855527],\n",
       "       [0.20469787],\n",
       "       [0.1314434 ],\n",
       "       [0.23566619],\n",
       "       [0.22762164],\n",
       "       [0.25124423],\n",
       "       [0.22854184],\n",
       "       [0.15599414],\n",
       "       [0.1273513 ],\n",
       "       [0.15547834],\n",
       "       [0.19930115],\n",
       "       [0.18214176],\n",
       "       [0.20571872],\n",
       "       [0.24898166],\n",
       "       [0.18768952],\n",
       "       [0.15213688],\n",
       "       [0.16035791],\n",
       "       [0.09940177],\n",
       "       [0.09706927],\n",
       "       [0.19962598],\n",
       "       [0.18260977],\n",
       "       [0.19934201],\n",
       "       [0.15215167],\n",
       "       [0.24604448],\n",
       "       [0.27572225],\n",
       "       [0.28069565],\n",
       "       [0.22616081],\n",
       "       [0.21838638],\n",
       "       [0.15836813],\n",
       "       [0.15382954],\n",
       "       [0.15601245],\n",
       "       [0.04950666],\n",
       "       [0.07146053],\n",
       "       [0.10370057],\n",
       "       [0.12857936],\n",
       "       [0.04847608],\n",
       "       [0.06300218],\n",
       "       [0.12824056],\n",
       "       [0.12253845],\n",
       "       [0.16050088],\n",
       "       [0.13860064],\n",
       "       [0.09970395],\n",
       "       [0.1083092 ],\n",
       "       [0.12874116],\n",
       "       [0.1451406 ],\n",
       "       [0.10430907],\n",
       "       [0.11726453],\n",
       "       [0.10720435],\n",
       "       [0.08130471],\n",
       "       [0.10568641],\n",
       "       [0.09833747],\n",
       "       [0.11739674],\n",
       "       [0.08867972],\n",
       "       [0.07666095],\n",
       "       [0.0798475 ],\n",
       "       [0.05226192],\n",
       "       [0.0427493 ],\n",
       "       [0.04570298],\n",
       "       [0.05268777],\n",
       "       [0.02676108],\n",
       "       [0.        ],\n",
       "       [0.06100046],\n",
       "       [0.06636102],\n",
       "       [0.09995379],\n",
       "       [0.1187807 ],\n",
       "       [0.14679333],\n",
       "       [0.19942508],\n",
       "       [0.25423003],\n",
       "       [0.26982783],\n",
       "       [0.27015928],\n",
       "       [0.32914116],\n",
       "       [0.31300345],\n",
       "       [0.26927137],\n",
       "       [0.24880103],\n",
       "       [0.22102086],\n",
       "       [0.26324929],\n",
       "       [0.29296502],\n",
       "       [0.34452678],\n",
       "       [0.39058941],\n",
       "       [0.37052336],\n",
       "       [0.43851384],\n",
       "       [0.41784695],\n",
       "       [0.41807485],\n",
       "       [0.38721246],\n",
       "       [0.47632998],\n",
       "       [0.45788759],\n",
       "       [0.45656497],\n",
       "       [0.4289555 ],\n",
       "       [0.3942854 ],\n",
       "       [0.39708809],\n",
       "       [0.44784066],\n",
       "       [0.51726951],\n",
       "       [0.50578409],\n",
       "       [0.51680543],\n",
       "       [0.52275086],\n",
       "       [0.47402055],\n",
       "       [0.50724854],\n",
       "       [0.45378991],\n",
       "       [0.50984071],\n",
       "       [0.50570226],\n",
       "       [0.50378035],\n",
       "       [0.45677632],\n",
       "       [0.45973461],\n",
       "       [0.50423574],\n",
       "       [0.5169662 ],\n",
       "       [0.53544241],\n",
       "       [0.53330388],\n",
       "       [0.58120669],\n",
       "       [0.6045154 ],\n",
       "       [0.4503182 ],\n",
       "       [0.43125707],\n",
       "       [0.43920292],\n",
       "       [0.39927886],\n",
       "       [0.40768859],\n",
       "       [0.43051233],\n",
       "       [0.4013754 ],\n",
       "       [0.45776966],\n",
       "       [0.48647385],\n",
       "       [0.47606618],\n",
       "       [0.46240498],\n",
       "       [0.48917558],\n",
       "       [0.46221163],\n",
       "       [0.3452498 ],\n",
       "       [0.28830715],\n",
       "       [0.36460142],\n",
       "       [0.39957515],\n",
       "       [0.34514252],\n",
       "       [0.34188092],\n",
       "       [0.35490932],\n",
       "       [0.32914602],\n",
       "       [0.29733448],\n",
       "       [0.31136593],\n",
       "       [0.37033208],\n",
       "       [0.48490057],\n",
       "       [0.47416279],\n",
       "       [0.48709901],\n",
       "       [0.51127702],\n",
       "       [0.5748878 ],\n",
       "       [0.67675988],\n",
       "       [0.63556586],\n",
       "       [0.63985255],\n",
       "       [0.6663459 ],\n",
       "       [0.66113808],\n",
       "       [0.73299317],\n",
       "       [0.69475826],\n",
       "       [0.73077674],\n",
       "       [0.72866934],\n",
       "       [0.84181777],\n",
       "       [0.82323251],\n",
       "       [0.84074964],\n",
       "       [0.85326202],\n",
       "       [0.91247666],\n",
       "       [0.95831531],\n",
       "       [0.85813745],\n",
       "       [0.81793811],\n",
       "       [0.83651229],\n",
       "       [0.82425626],\n",
       "       [0.88010948],\n",
       "       [0.80923903],\n",
       "       [0.75941297],\n",
       "       [0.81608085],\n",
       "       [0.85860867],\n",
       "       [0.84962727],\n",
       "       [0.83453504],\n",
       "       [0.82620466],\n",
       "       [0.8850507 ],\n",
       "       [0.87826153],\n",
       "       [0.83806457],\n",
       "       [0.82941629],\n",
       "       [0.84005745],\n",
       "       [0.88771456],\n",
       "       [1.        ],\n",
       "       [0.98424237],\n",
       "       [0.93189531],\n",
       "       [0.93069642],\n",
       "       [0.90966807],\n",
       "       [0.9179729 ],\n",
       "       [0.94438514],\n",
       "       [0.89382913],\n",
       "       [0.8038749 ],\n",
       "       [0.80935076],\n",
       "       [0.71862189],\n",
       "       [0.74980456],\n",
       "       [0.79158525],\n",
       "       [0.76598323],\n",
       "       [0.70133225],\n",
       "       [0.73522533],\n",
       "       [0.70109752],\n",
       "       [0.72742876],\n",
       "       [0.62930998],\n",
       "       [0.66229011],\n",
       "       [0.72673429],\n",
       "       [0.74151494],\n",
       "       [0.720298  ],\n",
       "       [0.72624094],\n",
       "       [0.7063251 ],\n",
       "       [0.63006424],\n",
       "       [0.51360229],\n",
       "       [0.51805533],\n",
       "       [0.51409937]])"
      ]
     },
     "execution_count": 92,
     "metadata": {},
     "output_type": "execute_result"
    }
   ],
   "source": [
    "scaled_data"
   ]
  },
  {
   "cell_type": "code",
   "execution_count": 22,
   "metadata": {},
   "outputs": [],
   "source": [
    "prediction_days=60"
   ]
  },
  {
   "cell_type": "code",
   "execution_count": 43,
   "metadata": {},
   "outputs": [],
   "source": [
    "xtrain,ytrain =[],[]"
   ]
  },
  {
   "cell_type": "code",
   "execution_count": 56,
   "metadata": {},
   "outputs": [],
   "source": [
    "for x in range(prediction_days, len(scaled_data)):\n",
    "    xtrain.append(scaled_data[x-prediction_days:x,0])\n",
    "    ytrain.append(scaled_data[x,0])"
   ]
  },
  {
   "cell_type": "code",
   "execution_count": 57,
   "metadata": {},
   "outputs": [
    {
     "name": "stderr",
     "output_type": "stream",
     "text": [
      "/opt/anaconda3/envs/PythonData/lib/python3.6/site-packages/ipykernel_launcher.py:1: VisibleDeprecationWarning: Creating an ndarray from ragged nested sequences (which is a list-or-tuple of lists-or-tuples-or ndarrays with different lengths or shapes) is deprecated. If you meant to do this, you must specify 'dtype=object' when creating the ndarray\n",
      "  \"\"\"Entry point for launching an IPython kernel.\n"
     ]
    }
   ],
   "source": [
    "xtrain, ytrain = np.array(xtrain),np.array(ytrain)"
   ]
  },
  {
   "cell_type": "code",
   "execution_count": 60,
   "metadata": {},
   "outputs": [
    {
     "data": {
      "text/plain": [
       "array([[0.        , 0.0720849 , 0.08922839, ..., 0.44024935, 0.41273927,\n",
       "        0.530392  ],\n",
       "       [0.0720849 , 0.08922839, 0.06801727, ..., 0.41273927, 0.530392  ,\n",
       "        0.4976042 ],\n",
       "       [0.08922839, 0.06801727, 0.1209205 , ..., 0.530392  , 0.4976042 ,\n",
       "        0.55414001],\n",
       "       ...,\n",
       "       [0.57970958, 0.68042619, 0.63969941, ..., 0.72934601, 0.70965607,\n",
       "        0.63426019],\n",
       "       [0.68042619, 0.63969941, 0.64393748, ..., 0.70965607, 0.63426019,\n",
       "        0.51911919],\n",
       "       [0.63969941, 0.64393748, 0.67013033, ..., 0.63426019, 0.51911919,\n",
       "        0.52352172]])"
      ]
     },
     "execution_count": 60,
     "metadata": {},
     "output_type": "execute_result"
    }
   ],
   "source": [
    "xtrain"
   ]
  },
  {
   "cell_type": "code",
   "execution_count": 61,
   "metadata": {},
   "outputs": [],
   "source": [
    "xtrain = np.reshape(xtrain,(xtrain.shape[0],xtrain.shape[1],1))"
   ]
  },
  {
   "cell_type": "code",
   "execution_count": 62,
   "metadata": {},
   "outputs": [
    {
     "data": {
      "text/plain": [
       "array([[[0.        ],\n",
       "        [0.0720849 ],\n",
       "        [0.08922839],\n",
       "        ...,\n",
       "        [0.44024935],\n",
       "        [0.41273927],\n",
       "        [0.530392  ]],\n",
       "\n",
       "       [[0.0720849 ],\n",
       "        [0.08922839],\n",
       "        [0.06801727],\n",
       "        ...,\n",
       "        [0.41273927],\n",
       "        [0.530392  ],\n",
       "        [0.4976042 ]],\n",
       "\n",
       "       [[0.08922839],\n",
       "        [0.06801727],\n",
       "        [0.1209205 ],\n",
       "        ...,\n",
       "        [0.530392  ],\n",
       "        [0.4976042 ],\n",
       "        [0.55414001]],\n",
       "\n",
       "       ...,\n",
       "\n",
       "       [[0.57970958],\n",
       "        [0.68042619],\n",
       "        [0.63969941],\n",
       "        ...,\n",
       "        [0.72934601],\n",
       "        [0.70965607],\n",
       "        [0.63426019]],\n",
       "\n",
       "       [[0.68042619],\n",
       "        [0.63969941],\n",
       "        [0.64393748],\n",
       "        ...,\n",
       "        [0.70965607],\n",
       "        [0.63426019],\n",
       "        [0.51911919]],\n",
       "\n",
       "       [[0.63969941],\n",
       "        [0.64393748],\n",
       "        [0.67013033],\n",
       "        ...,\n",
       "        [0.63426019],\n",
       "        [0.51911919],\n",
       "        [0.52352172]]])"
      ]
     },
     "execution_count": 62,
     "metadata": {},
     "output_type": "execute_result"
    }
   ],
   "source": [
    "xtrain"
   ]
  },
  {
   "cell_type": "code",
   "execution_count": 312,
   "metadata": {},
   "outputs": [
    {
     "data": {
      "text/plain": [
       "[<matplotlib.lines.Line2D at 0x7ffa77a9de10>]"
      ]
     },
     "execution_count": 312,
     "metadata": {},
     "output_type": "execute_result"
    },
    {
     "data": {
      "image/png": "[encoded data removed]",
      "text/plain": [
       "<Figure size 432x288 with 1 Axes>"
      ]
     },
     "metadata": {
      "needs_background": "light"
     },
     "output_type": "display_data"
    }
   ],
   "source": [
    "plt.plot(data.index,data.Close)"
   ]
  },
  {
   "cell_type": "code",
   "execution_count": 313,
   "metadata": {},
   "outputs": [],
   "source": [
    "data.reset_index(inplace=True)"
   ]
  },
  {
   "cell_type": "code",
   "execution_count": 315,
   "metadata": {},
   "outputs": [
    {
     "name": "stdout",
     "output_type": "stream",
     "text": [
      "2021-10-06 00:00:00\n",
      "2021-10-21 00:00:00\n",
      "55361.44921875\n",
      "62210.171875\n",
      "You made 101.23505251108622\n"
     ]
    }
   ],
   "source": [
    "#test bot\n",
    "hold=0\n",
    "buy_price=0\n",
    "old_price=53000\n",
    "sell_price=0\n",
    "new_high=0\n",
    "price=1000\n",
    "for i, j in data.iterrows():\n",
    "    if (i>100):\n",
    "        if (j.Close>old_price and hold==0):\n",
    "            buy_price=j.Close\n",
    "            new_high=buy_price\n",
    "            print(j.Date)\n",
    "            hold=1\n",
    "        if (j.Close>new_high):\n",
    "            new_high=j.Close\n",
    "        if (hold==1 and j.Close<=new_high*.95):\n",
    "            sell_price=j.Close\n",
    "            print(j.Date)\n",
    "            hold=2\n",
    "            \n",
    "print (buy_price)\n",
    "print (sell_price)\n",
    "print (f'You made {(sell_price/buy_price)*(price*.98)-price}')"
   ]
  },
  {
   "cell_type": "code",
   "execution_count": null,
   "metadata": {},
   "outputs": [],
   "source": [
    "1035"
   ]
  },
  {
   "cell_type": "code",
   "execution_count": 114,
   "metadata": {},
   "outputs": [],
   "source": [
    "t=100\n",
    "r=50\n",
    "if (t==100 and r==10):\n",
    "    print('yep')"
   ]
  },
  {
   "cell_type": "code",
   "execution_count": 115,
   "metadata": {},
   "outputs": [
    {
     "data": {
      "text/plain": [
       "dtype('float64')"
      ]
     },
     "execution_count": 115,
     "metadata": {},
     "output_type": "execute_result"
    }
   ],
   "source": [
    "data.Close.dtypes"
   ]
  },
  {
   "cell_type": "code",
   "execution_count": 161,
   "metadata": {},
   "outputs": [
    {
     "data": {
      "text/plain": [
       "1.14"
      ]
     },
     "execution_count": 161,
     "metadata": {},
     "output_type": "execute_result"
    }
   ],
   "source": [
    "1.2*.95\n"
   ]
  },
  {
   "cell_type": "code",
   "execution_count": null,
   "metadata": {},
   "outputs": [],
   "source": []
  }
 ],
 "metadata": {
  "kernelspec": {
   "display_name": "Python [conda env:PythonData] *",
   "language": "python",
   "name": "conda-env-PythonData-py"
  },
  "language_info": {
   "codemirror_mode": {
    "name": "ipython",
    "version": 3
   },
   "file_extension": ".py",
   "mimetype": "text/x-python",
   "name": "python",
   "nbconvert_exporter": "python",
   "pygments_lexer": "ipython3",
   "version": "3.6.10"
  }
 },
 "nbformat": 4,
 "nbformat_minor": 4
}
